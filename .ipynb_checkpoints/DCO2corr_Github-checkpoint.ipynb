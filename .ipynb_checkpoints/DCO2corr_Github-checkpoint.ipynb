{
 "cells": [
  {
   "cell_type": "markdown",
   "metadata": {},
   "source": [
    "![alt text](./pageheader_rose2_babies.jpg)"
   ]
  },
  {
   "cell_type": "markdown",
   "metadata": {},
   "source": [
    "# Correlation of DCO$_2$ and weight-corrected DCO$_2$ with PCO$_2$\n",
    "\n",
    "**Author: Dr Gusztav Belteki**\n",
    "\n",
    "This Notebook contains the code used for data processing, statistical analysis and \n",
    "visualization described in the following paper: \n",
    "\n",
    "Belteki G. Belteki G, Lin B, Morley CJ.\n",
    "**Weight-correction of carbon dioxide diffusion\n",
    "coefficient (DCO$_2$) reduces its inter-individual variability and improves its\n",
    "correlation with blood carbon dioxide levels in neonates receiving\n",
    "high-frequency oscillatory ventilation.**\n",
    "\n",
    "_Pediatr Pulmonology_ 2017 Oct;52(10):1316-1322.\n",
    "doi:10.1002/ppul.23759. Epub 2017 Jul 6. PubMed PMID: 28682001.\n",
    "\n",
    "Link to the paper: https://onlinelibrary.wiley.com/doi/abs/10.1002/ppul.23759\n",
    "\n",
    "Contact: gusztav.belteki@addenbrookes.nhs.uk; gbelteki@aol.com"
   ]
  },
  {
   "cell_type": "markdown",
   "metadata": {},
   "source": [
    "## Import the required modules and libraries and set options"
   ]
  },
  {
   "cell_type": "code",
   "execution_count": 1,
   "metadata": {},
   "outputs": [],
   "source": [
    "import pandas as pd\n",
    "import numpy as np\n",
    "import matplotlib.pyplot as plt\n",
    "import os\n",
    "import re\n",
    "import operator\n",
    "import warnings\n",
    "\n",
    "from pandas import Series, DataFrame\n",
    "from scipy.stats.stats import pearsonr\n",
    "from scipy.stats import ttest_rel\n",
    "from datetime import datetime, timedelta\n",
    "from pprint import pprint\n",
    "\n",
    "%matplotlib inline\n",
    "\n",
    "pd.set_option('display.max_rows', 20)\n",
    "pd.set_option('display.max_columns', 50)\n",
    "warnings.simplefilter('ignore')"
   ]
  },
  {
   "cell_type": "markdown",
   "metadata": {
    "collapsed": true
   },
   "source": [
    "## List and set the working directory and the directory to write out data"
   ]
  },
  {
   "cell_type": "code",
   "execution_count": 2,
   "metadata": {
    "scrolled": true
   },
   "outputs": [
    {
     "name": "stdout",
     "output_type": "stream",
     "text": [
      "/Users/guszti/ventilation_data\n"
     ]
    }
   ],
   "source": [
    "# Directory to read the data from\n",
    "%cd /Users/guszti/ventilation_data\n",
    "cwd = os.getcwd()"
   ]
  },
  {
   "cell_type": "code",
   "execution_count": 3,
   "metadata": {
    "collapsed": true
   },
   "outputs": [],
   "source": [
    "# Directory to write the data to\n",
    "dir_write = '/Users/guszti/ventilation_data/Analyses/DCO2/revision'"
   ]
  },
  {
   "cell_type": "markdown",
   "metadata": {},
   "source": [
    "## List of recordings"
   ]
  },
  {
   "cell_type": "code",
   "execution_count": 4,
   "metadata": {
    "collapsed": true
   },
   "outputs": [],
   "source": [
    "# Part or all of these recordings is HFOV\n",
    "recordings = [ 'DG005_1', 'DG005_2', 'DG005_3', 'DG006_1', 'DG009',  'DG016', 'DG017', 'DG018_1',  \n",
    "              'DG020', 'DG022', 'DG025', 'DG027', 'DG032_2', 'DG038_1', 'DG038_2', 'DG040_1', 'DG040_2', 'DG046_1']"
   ]
  },
  {
   "cell_type": "markdown",
   "metadata": {},
   "source": [
    "## Initialize directories, analysis settings, and visualization markers"
   ]
  },
  {
   "cell_type": "code",
   "execution_count": 5,
   "metadata": {
    "collapsed": true
   },
   "outputs": [],
   "source": [
    "clinical_details = {}\n",
    "current_weights = {}\n",
    "blood_gases = {}\n",
    "pCO2s = {}\n",
    "sedation = {}\n",
    "vent_modes = {}\n",
    "vent_modes_selected = {} # only important mode parameters are kept in this one\n",
    "vent_settings = {}\n",
    "vent_settings_selected = {} # only important mode parameters are kept in this one\n",
    "slow_measurements = {} # 'slow measurements' are the ventilator parameters obtained with 1/sec frequeency\n",
    "slow_measurements_hfov = {} # this only contains those parts of 'slow measurements' which do have a DCO2 reading\n",
    "                            # and therefore are hfov ventilation periods"
   ]
  },
  {
   "cell_type": "code",
   "execution_count": 6,
   "metadata": {
    "collapsed": true
   },
   "outputs": [],
   "source": [
    "# Analysing DCO2s over \"interval\" minutes stopping \"offset\" minutes prior to the time of the blood gas\n",
    "\n",
    "interval = 10 # 10 minutes\n",
    "offset = 2 # 2 minutes"
   ]
  },
  {
   "cell_type": "code",
   "execution_count": 7,
   "metadata": {
    "collapsed": true
   },
   "outputs": [],
   "source": [
    "# color and marker set for visualization\n",
    "\n",
    "colors = ['b', 'g', 'r', 'c', 'm', 'y', 'k', 'magenta', 'maroon', 'navy', 'salmon', 'silver',  'tomato',\n",
    "          'violet', 'orchid', 'peru', 'wheat', 'lime', 'limegreen']\n",
    "markers = [\".\", \"+\", \",\", \"x\", \"o\", \"D\", \"d\", \"8\", \"s\", \"p\", \"*\", \"h\", 0, 4, \"<\", \"3\",\n",
    "           1, 5, \">\", \"4\", 2, 6, \"^\", \"2\", 3, 7, \"v\", \"1\"]"
   ]
  },
  {
   "cell_type": "markdown",
   "metadata": {},
   "source": [
    "## Import clinical details"
   ]
  },
  {
   "cell_type": "code",
   "execution_count": 8,
   "metadata": {
    "collapsed": true
   },
   "outputs": [],
   "source": [
    "for recording in recordings:\n",
    "    clinical_details[recording] = pd.read_excel('%s/%s' % (cwd, 'data_grabber_patient_data.xlsx'), \n",
    "                                                sheetname = recording[:5])"
   ]
  },
  {
   "cell_type": "code",
   "execution_count": 9,
   "metadata": {
    "collapsed": true
   },
   "outputs": [],
   "source": [
    "# If there are multiple recordings for the same patient this imports the weight relevant for the given recording\n",
    "for recording in recordings:\n",
    "    w = 1 if len(recording) == 5 else int(recording[-1])\n",
    "    current_weights[recording] = clinical_details[recording].ix[4, w]/1000"
   ]
  },
  {
   "cell_type": "markdown",
   "metadata": {},
   "source": [
    "## Define function to import data"
   ]
  },
  {
   "cell_type": "code",
   "execution_count": 10,
   "metadata": {
    "collapsed": true
   },
   "outputs": [],
   "source": [
    "def data_loader(lst):\n",
    "    \n",
    "    '''\n",
    "    lst ->  DataFrame \n",
    "    \n",
    "    - Takes a list of csv files (given as filenames with absolute paths) and import them as a dataframes \n",
    "    - Combines the 'Date' and 'Time' columns into a Datetime index while keeping the original columns\n",
    "    - If there are more files it concatenates them into a single dataframe. \n",
    "    - It returns the concatenated data as one DataFrame. \n",
    "    \n",
    "    '''\n",
    "    \n",
    "    data  = []\n",
    "    for i, filename in enumerate(lst):\n",
    "        data.append(pd.read_csv(lst[i], keep_date_col = 'True', parse_dates = [['Date', 'Time']])) \n",
    "    data = pd.concat(data) \n",
    "    data.index = data.Date_Time\n",
    "    return data"
   ]
  },
  {
   "cell_type": "markdown",
   "metadata": {},
   "source": [
    "## Import ventilator modes and settings"
   ]
  },
  {
   "cell_type": "code",
   "execution_count": 11,
   "metadata": {
    "collapsed": true
   },
   "outputs": [],
   "source": [
    "def slow_setting_finder(lst):\n",
    "    '''\n",
    "    list -> list\n",
    "    \n",
    "    Takes a list of filenames and returns those ones that end with '_slow_Setting.csv'\n",
    "    '''\n",
    "    return [n for n in lst if n.endswith('_slow_Setting.csv')]"
   ]
  },
  {
   "cell_type": "code",
   "execution_count": 12,
   "metadata": {
    "collapsed": true
   },
   "outputs": [],
   "source": [
    "def slow_text_finder(lst):\n",
    "    '''\n",
    "    list -> list\n",
    "    \n",
    "    Takes a list of filenames and returns those ones that end with '_slow_Text.csv'\n",
    "    '''\n",
    "    return [n for n in lst if n.endswith('_slow_Text.csv')]"
   ]
  },
  {
   "cell_type": "code",
   "execution_count": 13,
   "metadata": {},
   "outputs": [],
   "source": [
    "for recording in recordings:\n",
    "    flist = os.listdir('%s/%s' % (cwd, recording))\n",
    "    files = slow_setting_finder(flist)\n",
    "    # print('Loading recording %s' % recording)\n",
    "    # print(files)\n",
    "    fnames = ['%s/%s/%s' % (cwd, recording, filename) for filename in files]\n",
    "    vent_settings[recording] =  data_loader(fnames)"
   ]
  },
  {
   "cell_type": "code",
   "execution_count": 14,
   "metadata": {
    "collapsed": true
   },
   "outputs": [],
   "source": [
    "# remove less important ventilator settings to simplify the table\n",
    "for recording in recordings:\n",
    "    a = vent_settings[recording][vent_settings[recording].Id != 'FiO2']\n",
    "    a = a[a.Id != 'Ø tube']\n",
    "    a = a[a.Id != 'Tapn']\n",
    "    a = a[a.Id != 'ΔPsupp']\n",
    "    a = a[a.Id != 'Tube Æ']\n",
    "    a = a[a.Id != 'RRsigh']\n",
    "    a = a[a.Id != 'Psigh']\n",
    "    a = a[a.Id != 'Slopesigh']\n",
    "    a = a[a.Unit != 'L']\n",
    "    a = a[a.Id != 'I (I:E)']\n",
    "    a = a[a.Id != 'E (I:E)']\n",
    "    a = a[a.Id != 'MVlow delay']\n",
    "    a = a[a.Id != 'MVhigh delay']\n",
    "    a.drop_duplicates([\"Rel.Time [s]\", \"Name\"], inplace = True)\n",
    "    vent_settings_selected[recording] = a"
   ]
  },
  {
   "cell_type": "code",
   "execution_count": 15,
   "metadata": {},
   "outputs": [],
   "source": [
    "for recording in recordings:\n",
    "    flist = os.listdir('%s/%s' % (cwd, recording))\n",
    "    files = slow_text_finder(flist)\n",
    "    # print('Loading recording %s' % recording)\n",
    "    # print(files)\n",
    "    fnames = ['%s/%s/%s' % (cwd, recording, filename) for filename in files]\n",
    "    vent_modes[recording] =  data_loader(fnames)"
   ]
  },
  {
   "cell_type": "code",
   "execution_count": 16,
   "metadata": {
    "collapsed": true
   },
   "outputs": [],
   "source": [
    "# remove less important ventilator mode settings to simplify the table\n",
    "for recording in recordings:\n",
    "    a = vent_modes[recording][vent_modes[recording].Id != 'Device is in neonatal mode']\n",
    "    a = a[a.Id != 'Device is in neonatal mode']\n",
    "    a = a[a.Id != 'Selected CO2 unit is mmHg']\n",
    "    a = a[a.Id != \"Selected language (variable text string transmitted with this code, see 'MEDIBUS.X, Rules and Standards for Implementation' for further information)\"]\n",
    "    a = a[a.Id != 'Device configured for intubated patient ventilation']\n",
    "    a = a[a.Id != 'Active humid heated']\n",
    "    a = a[a.Id != 'Audio pause active']\n",
    "    a = a[a.Id != 'Active humid unheated']\n",
    "    a = a[a.Id != 'Suction maneuver active']\n",
    "    a.drop_duplicates([\"Rel.Time [s]\", \"Id\"], inplace = True)\n",
    "    vent_modes_selected[recording] = a"
   ]
  },
  {
   "cell_type": "markdown",
   "metadata": {},
   "source": [
    "## Import DCO2 data"
   ]
  },
  {
   "cell_type": "code",
   "execution_count": null,
   "metadata": {
    "collapsed": true
   },
   "outputs": [],
   "source": [
    "def slow_measurement_finder(lst):\n",
    "    '''\n",
    "    list -> list\n",
    "    \n",
    "    Takes a list of filenames and returns those ones that end with 'Measurement.csv''\n",
    "    '''\n",
    "    return [n for n in lst if n.endswith('_slow_Measurement.csv')]"
   ]
  },
  {
   "cell_type": "code",
   "execution_count": null,
   "metadata": {},
   "outputs": [],
   "source": [
    "for recording in recordings:\n",
    "    flist = os.listdir('%s/%s' % (cwd, recording))\n",
    "    files = slow_measurement_finder(flist)\n",
    "    # print('Loading recording %s' % recording)\n",
    "    # print(files)\n",
    "    fnames = ['%s/%s/%s' % (cwd, recording, filename) for filename in files]\n",
    "    slow_measurements[recording] =  data_loader(fnames)"
   ]
  },
  {
   "cell_type": "markdown",
   "metadata": {},
   "source": [
    "## Clean up DCO2 data"
   ]
  },
  {
   "cell_type": "code",
   "execution_count": null,
   "metadata": {
    "collapsed": true
   },
   "outputs": [],
   "source": [
    "# resampling to adjust the time stamps to full seconds\n",
    "for recording in recordings:\n",
    "    slow_measurements[recording] = slow_measurements[recording].resample('1S').mean()"
   ]
  },
  {
   "cell_type": "code",
   "execution_count": null,
   "metadata": {
    "collapsed": true
   },
   "outputs": [],
   "source": [
    "# Remove rows which have no DCO2 data - this keeps HFOV periods only\n",
    "for recording in recordings:\n",
    "    try:\n",
    "        slow_measurements_hfov[recording] = slow_measurements[recording].dropna(subset = ['5001|DCO2 [10*mL^2/s]'])\n",
    "    except KeyError:\n",
    "        print('%s cannot be converted' % recording )"
   ]
  },
  {
   "cell_type": "code",
   "execution_count": null,
   "metadata": {
    "collapsed": true
   },
   "outputs": [],
   "source": [
    "for recording in recordings:\n",
    "    \n",
    "    # Create a column in the DataFrame with the DCO2 data. The original values need to be multiplied by 10 \n",
    "    # as in the the downloaded data they are expressed as 1/10th of the DCO2 readings (see original column labels)\n",
    "    slow_measurements_hfov[recording]['DCO2'] = \\\n",
    "        DataFrame(slow_measurements_hfov[recording]['5001|DCO2 [10*mL^2/s]'] * 10)\n",
    "    \n",
    "    # this normalizes the DCO2 to the body weight. DCO2 = f x VT x VT. If VT is expressed as mL/kg then DCO2_corr\n",
    "    # should be 1/sec x mL/kg x mL/kg = mL^2 / kg^2 / sec     \n",
    "    slow_measurements_hfov[recording]['DCO2_corr'] = \\\n",
    "        DataFrame(slow_measurements_hfov[recording]['5001|DCO2 [10*mL^2/s]'] * 10 / (current_weights[recording] ** 2))\n",
    "        \n",
    "    # This column normalizes the VThf to body weight\n",
    "    slow_measurements_hfov[recording]['VThf_kg'] = \\\n",
    "        DataFrame(slow_measurements_hfov[recording]['5001|VThf [mL]']  / current_weights[recording]) \n",
    "        \n",
    "    # This column normalizs the VThf to body weight squares\n",
    "    slow_measurements_hfov[recording]['VThf_kg_2'] = slow_measurements_hfov[recording]['VThf_kg']**2"
   ]
  },
  {
   "cell_type": "markdown",
   "metadata": {},
   "source": [
    "### Write out and import processed HFOV data to binary \"pickle\" file"
   ]
  },
  {
   "cell_type": "code",
   "execution_count": null,
   "metadata": {},
   "outputs": [],
   "source": [
    "for recording in recordings:\n",
    "    print('%s is being pickled' % recording)\n",
    "    slow_measurements_hfov[recording].to_pickle('%s/%s_slow_measurements_hfov.p' % (dir_write, recording))"
   ]
  },
  {
   "cell_type": "code",
   "execution_count": null,
   "metadata": {
    "collapsed": true
   },
   "outputs": [],
   "source": [
    "# importing from pickles\n",
    "for recording in recordings:\n",
    "    slow_measurements_hfov[recording] = pd.read_pickle('%s/%s_slow_measurements_hfov.p' % (dir_write, recording))"
   ]
  },
  {
   "cell_type": "markdown",
   "metadata": {},
   "source": [
    "## Calculate HFOV periods"
   ]
  },
  {
   "cell_type": "code",
   "execution_count": null,
   "metadata": {
    "scrolled": true
   },
   "outputs": [],
   "source": [
    "HFOV_periods = {}\n",
    "\n",
    "for recording in recordings:\n",
    "    start = slow_measurements_hfov[recording].index[0]\n",
    "    end = slow_measurements_hfov[recording].index[-1]\n",
    "    HFOV_periods[recording] = [start, end]"
   ]
  },
  {
   "cell_type": "code",
   "execution_count": null,
   "metadata": {
    "collapsed": true
   },
   "outputs": [],
   "source": [
    "# How long are the HFOV periods (in seconds) ?\n",
    "hfov_durations = {}\n",
    "for recording in recordings:\n",
    "    hfov_durations[recording] = HFOV_periods[recording][1] - HFOV_periods[recording][0]"
   ]
  },
  {
   "cell_type": "markdown",
   "metadata": {},
   "source": [
    "## Calculate descriptive statistics on DCO2 data over the whole duration of the recordings and write them to file"
   ]
  },
  {
   "cell_type": "code",
   "execution_count": null,
   "metadata": {
    "collapsed": true
   },
   "outputs": [],
   "source": [
    "def stats_calculator(obj, col):\n",
    "    '''\n",
    "    in: obj (Series or DataFrame), col (str)\n",
    "    out: tuple of size 8\n",
    "    \n",
    "    Calculates 8 different descriptive statistics for the data in the 'col' column of a series or dataframe\n",
    "    '''\n",
    "    \n",
    "    a = obj[col]\n",
    "    return (a.size, a.mean(), a.std(), a.median(), a.mad(), \n",
    "            a.min(), a.quantile(0.25), a.quantile(0.75), a.max())"
   ]
  },
  {
   "cell_type": "code",
   "execution_count": null,
   "metadata": {
    "scrolled": false
   },
   "outputs": [],
   "source": [
    "# Descriptive statistics on uncorrected DCO2 data\n",
    "DCO2_stats_all = []\n",
    "\n",
    "for recording in recordings:\n",
    "    stats = (stats_calculator(slow_measurements_hfov[recording], 'DCO2'))\n",
    "    frame = DataFrame([stats], columns = ['number_of_seconds', 'mean', 'stdev', 'median', 'mad', \n",
    "                                             'min', '25pc', '75pc', 'max', ], index = [recording])\n",
    "    DCO2_stats_all.append(frame)\n",
    "    \n",
    "DCO2_stats_all = pd.concat(DCO2_stats_all)\n",
    "DCO2_stats_all['hours'] = DCO2_stats_all['number_of_seconds'] / 3600"
   ]
  },
  {
   "cell_type": "code",
   "execution_count": null,
   "metadata": {
    "scrolled": false
   },
   "outputs": [],
   "source": [
    "# Descriptive statistics on weight-squared-corrected DCO2 data\n",
    "DCO2_corr_stats_all = []\n",
    "\n",
    "for recording in recordings:\n",
    "    stats = (stats_calculator(slow_measurements_hfov[recording], 'DCO2_corr'))\n",
    "    frame = DataFrame([stats], columns = ['number_of_seconds', 'mean', 'stdev', 'median', 'mad', \n",
    "                                             'min', '25pc', '75pc', 'max', ], index = [recording])\n",
    "    DCO2_corr_stats_all.append(frame)\n",
    "    \n",
    "DCO2_corr_stats_all = pd.concat(DCO2_corr_stats_all)"
   ]
  },
  {
   "cell_type": "raw",
   "metadata": {
    "collapsed": true
   },
   "source": [
    "writer = pd.ExcelWriter('%s/%s' % (dir_write, 'DCO2_stats.xlsx'))\n",
    "DCO2_stats_all.to_excel(writer,'DCO2')\n",
    "DCO2_corr_stats_all.to_excel(writer,'DCO2_corr')\n",
    "writer.save()"
   ]
  },
  {
   "cell_type": "markdown",
   "metadata": {},
   "source": [
    "## Import blood gases"
   ]
  },
  {
   "cell_type": "code",
   "execution_count": null,
   "metadata": {
    "collapsed": true
   },
   "outputs": [],
   "source": [
    "for recording in recordings:\n",
    "    blood_gases[recording] = pd.read_excel('%s/%s' % (cwd, 'data_grabber_gases.xlsx'), \n",
    "                                            sheetname = recording[:5], header = None)\n",
    "    blood_gases[recording] = DataFrame(blood_gases[recording].T)\n",
    "    blood_gases[recording].columns = blood_gases[recording].ix[0]\n",
    "    blood_gases[recording] = blood_gases[recording][1:]\n",
    "    blood_gases[recording].index = [blood_gases[recording]['Date:'], blood_gases[recording]['Time:']]"
   ]
  },
  {
   "cell_type": "code",
   "execution_count": null,
   "metadata": {
    "collapsed": true
   },
   "outputs": [],
   "source": [
    "pCO2s = {}\n",
    "for recording in recordings:\n",
    "    pCO2s[recording] = blood_gases[recording][['pCO2, POC', 'Blood specimen type, POC']]"
   ]
  },
  {
   "cell_type": "markdown",
   "metadata": {},
   "source": [
    "### Change the index of PCO2s into single index format"
   ]
  },
  {
   "cell_type": "code",
   "execution_count": null,
   "metadata": {},
   "outputs": [],
   "source": [
    "# Change the index of pCO2s into single index format\n",
    "\n",
    "for recording in recordings:\n",
    "    # print('processing CO2 data for %s' % recording)\n",
    "    time_list_all = []\n",
    "    for i in range(len(pCO2s[recording])):\n",
    "        day = str(pCO2s[recording].index[i][0])[:10]\n",
    "        time = str(pCO2s[recording].index[i][1])\n",
    "        date_time = day + ' ' + time\n",
    "        time_list_all.append(date_time)\n",
    "                   \n",
    "    pCO2s[recording].index = time_list_all"
   ]
  },
  {
   "cell_type": "code",
   "execution_count": null,
   "metadata": {},
   "outputs": [],
   "source": [
    "# Convert the indices of the pCO2s DataFrames to datetime index\n",
    "\n",
    "for recording in recordings:\n",
    "    try:\n",
    "        pCO2s[recording].index = pd.to_datetime(pCO2s[recording].index)\n",
    "    except:\n",
    "        print('%s cannot be converted' % recording)"
   ]
  },
  {
   "cell_type": "markdown",
   "metadata": {},
   "source": [
    "### Create a dictionary containing the time of  blood gases taken during HFOV recording"
   ]
  },
  {
   "cell_type": "code",
   "execution_count": null,
   "metadata": {
    "collapsed": true
   },
   "outputs": [],
   "source": [
    "gas_list = {}"
   ]
  },
  {
   "cell_type": "code",
   "execution_count": null,
   "metadata": {
    "collapsed": true
   },
   "outputs": [],
   "source": [
    "gas_list['DG005_1'] = ['2015-10-13 15:30:00', '2015-10-13 17:38:00', '2015-10-13 21:33:00', '2015-10-13 23:05:00',\n",
    " '2015-10-14 01:29:00', '2015-10-14 03:56:00', '2015-10-14 07:02:00', '2015-10-14 11:12:00', '2015-10-14 13:10:00',\n",
    " '2015-10-14 14:07:00', '2015-10-14 14:31:00', '2015-10-14 16:32:00', '2015-10-14 19:08:00', '2015-10-14 22:42:00',\n",
    " '2015-10-15 00:01:00', '2015-10-15 02:44:00', '2015-10-15 03:57:00', '2015-10-15 05:21:00', '2015-10-15 07:45:00',\n",
    " '2015-10-15 11:56:00' ]"
   ]
  },
  {
   "cell_type": "code",
   "execution_count": null,
   "metadata": {
    "collapsed": true
   },
   "outputs": [],
   "source": [
    "gas_list['DG005_2'] = ['2015-10-24 12:33:00', '2015-10-24 13:47:00', ]"
   ]
  },
  {
   "cell_type": "code",
   "execution_count": null,
   "metadata": {
    "collapsed": true
   },
   "outputs": [],
   "source": [
    "gas_list['DG005_3'] = ['2015-11-04 04:09:00', '2015-11-04 07:24:00', ]"
   ]
  },
  {
   "cell_type": "code",
   "execution_count": null,
   "metadata": {
    "collapsed": true
   },
   "outputs": [],
   "source": [
    "gas_list['DG006_1'] = [ '2015-10-15 17:45:00', '2015-10-15 20:12:00', '2015-10-15 21:12:00', '2015-10-15 22:30:00',\n",
    "                       '2015-10-16 01:13:00', '2015-10-16 03:28:00', '2015-10-16 05:07:00', '2015-10-16 07:17:00',\n",
    "                       '2015-10-16 10:59:00', '2015-10-16 15:34:00'] "
   ]
  },
  {
   "cell_type": "code",
   "execution_count": null,
   "metadata": {
    "collapsed": true
   },
   "outputs": [],
   "source": [
    "gas_list['DG009'] = [ '2015-10-26 17:54:00', '2015-10-26 20:08:00', '2015-10-26 21:33:00', '2015-10-27 01:08:00', \n",
    "                     '2015-10-27 06:34:00', '2015-10-27 11:56:00',  '2015-10-27 13:47:00', '2015-10-27 21:06:00',\n",
    "                     '2015-10-28 02:49:00', '2015-10-28 07:04:00', '2015-10-28 09:44:00'] "
   ]
  },
  {
   "cell_type": "code",
   "execution_count": null,
   "metadata": {
    "collapsed": true
   },
   "outputs": [],
   "source": [
    "gas_list['DG016'] = [ '2015-12-07 14:35:00', '2015-12-07 16:51:00'] "
   ]
  },
  {
   "cell_type": "code",
   "execution_count": null,
   "metadata": {
    "collapsed": true
   },
   "outputs": [],
   "source": [
    "gas_list['DG017'] = ['2015-12-08 12:58:00', '2015-12-08 16:44:00', '2015-12-08 19:33:00',\n",
    "       '2015-12-08 22:51:00', '2015-12-08 23:27:00', '2015-12-08 23:34:00',\n",
    "       '2015-12-09 02:06:00', '2015-12-09 03:48:00', '2015-12-09 05:41:00',\n",
    "       '2015-12-09 07:49:00', '2015-12-09 07:56:00', '2015-12-09 09:12:00',\n",
    "       '2015-12-09 09:19:00', '2015-12-09 12:27:00', '2015-12-09 16:37:00',\n",
    "       '2015-12-09 17:39:00', '2015-12-09 20:50:00', '2015-12-10 01:04:00',\n",
    "       '2015-12-10 03:35:00', '2015-12-10 03:37:00', '2015-12-10 04:33:00',\n",
    "       '2015-12-10 10:41:00', '2015-12-10 10:48:00', '2015-12-10 12:29:00',\n",
    "       '2015-12-10 14:20:00', '2015-12-10 17:02:00', '2015-12-10 22:02:00',\n",
    "       '2015-12-11 03:04:00', '2015-12-11 03:12:00', '2015-12-11 06:16:00',\n",
    "       '2015-12-11 06:25:00', '2015-12-11 06:59:00', '2015-12-11 10:21:00',\n",
    "       '2015-12-11 14:16:00']"
   ]
  },
  {
   "cell_type": "code",
   "execution_count": null,
   "metadata": {
    "collapsed": true
   },
   "outputs": [],
   "source": [
    "gas_list['DG018_1'] = ['2015-12-13 01:27:00',\n",
    "       '2015-12-13 03:43:00', '2015-12-13 05:20:00', '2015-12-13 07:05:00',\n",
    "       '2015-12-13 08:46:00', '2015-12-13 10:55:00', '2015-12-13 11:40:00',\n",
    "       '2015-12-13 12:50:00', '2015-12-13 14:50:00', '2015-12-13 16:50:00',\n",
    "       '2015-12-13 19:40:00', '2015-12-13 22:22:00', '2015-12-14 00:19:00',\n",
    "       '2015-12-14 01:33:00', '2015-12-14 04:37:00', '2015-12-14 06:55:00',\n",
    "       '2015-12-14 09:59:00', '2015-12-14 11:23:00', '2015-12-14 13:07:00']"
   ]
  },
  {
   "cell_type": "code",
   "execution_count": null,
   "metadata": {
    "collapsed": true
   },
   "outputs": [],
   "source": [
    "gas_list['DG020'] = [ '2015-12-29 11:52:00', '2015-12-29 15:36:00', '2015-12-29 19:13:00', '2015-12-29 22:23:00',\n",
    "       '2015-12-30 02:10:00', '2015-12-30 03:54:00', '2015-12-30 05:43:00', '2015-12-30 07:46:00',\n",
    "        '2015-12-30 09:06:00', '2015-12-30 13:07:00'] "
   ]
  },
  {
   "cell_type": "code",
   "execution_count": null,
   "metadata": {
    "collapsed": true
   },
   "outputs": [],
   "source": [
    "gas_list['DG022'] = ['2016-01-02 12:43:00', '2016-01-02 15:58:00', '2016-01-02 19:46:00',\n",
    "       '2016-01-02 21:41:00', '2016-01-02 22:43:00', '2016-01-03 00:01:00',\n",
    "       '2016-01-03 01:15:00', '2016-01-03 02:14:00', '2016-01-03 03:05:00',\n",
    "       '2016-01-03 03:59:00', '2016-01-03 05:34:00', '2016-01-03 07:37:00',\n",
    "       '2016-01-03 13:28:00', '2016-01-03 18:54:00', '2016-01-03 22:44:00',\n",
    "       '2016-01-05 02:50:00', '2016-01-05 07:09:00', '2016-01-05 14:08:00',\n",
    "       '2016-01-05 23:31:00']"
   ]
  },
  {
   "cell_type": "code",
   "execution_count": null,
   "metadata": {
    "collapsed": true
   },
   "outputs": [],
   "source": [
    "gas_list['DG025'] = [ '2016-01-21 23:46:00',\n",
    "       '2016-01-22 03:31:00', '2016-01-22 06:27:00', '2016-01-22 09:06:00',\n",
    "       '2016-01-22 11:09:00', '2016-01-22 12:35:00', '2016-01-22 14:14:00',\n",
    "       '2016-01-22 18:03:00', '2016-01-22 22:12:00', '2016-01-23 01:24:00',\n",
    "       '2016-01-23 04:24:00', '2016-01-23 08:46:00', '2016-01-23 10:17:00',\n",
    "       '2016-01-23 14:47:00', '2016-01-23 19:22:00', '2016-01-23 21:41:00',\n",
    "       '2016-01-24 00:45:00', '2016-01-24 07:50:00', '2016-01-24 10:59:00',] "
   ]
  },
  {
   "cell_type": "code",
   "execution_count": null,
   "metadata": {
    "collapsed": true
   },
   "outputs": [],
   "source": [
    "gas_list['DG027'] = ['2016-01-29 10:48:00', '2016-01-29 11:56:00', '2016-01-29 14:34:00']"
   ]
  },
  {
   "cell_type": "code",
   "execution_count": null,
   "metadata": {
    "collapsed": true
   },
   "outputs": [],
   "source": [
    "gas_list['DG032_2'] = ['2016-03-22 13:22:00',\n",
    "       '2016-03-22 21:07:00', '2016-03-23 02:17:00', '2016-03-23 11:19:00',\n",
    "       '2016-03-23 18:46:00', '2016-03-23 21:33:00', '2016-03-24 00:15:00',\n",
    "       '2016-03-24 02:13:00', '2016-03-24 06:15:00', '2016-03-24 09:08:00',\n",
    "       '2016-03-24 13:20:00', '2016-03-24 18:19:00', '2016-03-25 01:41:00',\n",
    "       '2016-03-25 03:29:00', '2016-03-25 10:46:00', '2016-03-25 17:44:00',\n",
    "       '2016-03-26 02:54:00', '2016-03-26 03:34:00', '2016-03-26 04:15:00',\n",
    "       '2016-03-26 05:46:00', '2016-03-26 09:02:00']"
   ]
  },
  {
   "cell_type": "code",
   "execution_count": null,
   "metadata": {
    "collapsed": true
   },
   "outputs": [],
   "source": [
    "gas_list['DG038_1'] =  ['2016-05-06 10:34:00', '2016-05-06 14:25:00',\n",
    "       '2016-05-06 17:58:00', '2016-05-06 19:34:00', '2016-05-06 21:22:00',\n",
    "       '2016-05-06 23:36:00', '2016-05-07 03:11:00', '2016-05-07 05:45:00',\n",
    "       '2016-05-07 10:13:00', '2016-05-07 12:45:00', '2016-05-07 16:33:00',\n",
    "       '2016-05-07 19:01:00', '2016-05-08 00:19:00', '2016-05-08 03:54:00',\n",
    "       '2016-05-08 09:13:00', '2016-05-08 13:41:00', '2016-05-08 19:30:00',\n",
    "       '2016-05-08 22:35:00', '2016-05-09 03:53:00', '2016-05-09 10:19:00',\n",
    "       '2016-05-09 11:59:00', '2016-05-09 18:45:00', '2016-05-09 21:53:00',\n",
    "       '2016-05-10 03:06:00', '2016-05-10 07:38:00', '2016-05-10 12:08:00',\n",
    "       '2016-05-10 13:51:00', '2016-05-10 13:59:00', '2016-05-10 17:35:00',\n",
    "       '2016-05-10 23:06:00', '2016-05-11 05:13:00', '2016-05-11 10:03:00',]"
   ]
  },
  {
   "cell_type": "code",
   "execution_count": null,
   "metadata": {
    "collapsed": true
   },
   "outputs": [],
   "source": [
    "gas_list['DG038_2'] =['2016-05-17 18:01:00',\n",
    "       '2016-05-18 01:14:00', '2016-05-18 07:04:00', '2016-05-18 11:49:00',\n",
    "       '2016-05-18 17:54:00', '2016-05-19 03:08:00', '2016-05-19 12:57:00',\n",
    "       '2016-05-19 17:57:00', '2016-05-20 03:34:00', '2016-05-20 09:09:00',\n",
    "       '2016-05-20 17:20:00', '2016-05-21 00:46:00', '2016-05-21 01:57:00',\n",
    "       '2016-05-21 05:34:00', '2016-05-21 09:35:00', '2016-05-21 14:07:00',\n",
    "       '2016-05-21 18:18:00', '2016-05-21 21:35:00', '2016-05-22 02:25:00',\n",
    "       '2016-05-22 09:43:00']"
   ]
  },
  {
   "cell_type": "code",
   "execution_count": null,
   "metadata": {
    "collapsed": true
   },
   "outputs": [],
   "source": [
    "gas_list['DG040_1'] = ['2016-06-09 16:24:00',\n",
    "       '2016-06-09 16:57:00', '2016-06-09 19:15:00', '2016-06-09 21:51:00',\n",
    "       '2016-06-09 23:12:00', '2016-06-09 23:21:00', '2016-06-09 23:32:00',\n",
    "       '2016-06-10 01:17:00', '2016-06-10 03:28:00', '2016-06-10 07:36:00',\n",
    "       '2016-06-10 11:34:00', '2016-06-10 11:42:00', '2016-06-10 18:03:00',\n",
    "       '2016-06-10 19:27:00', '2016-06-10 19:41:00', '2016-06-10 22:04:00',\n",
    "       '2016-06-11 02:53:00', '2016-06-11 11:17:00', '2016-06-11 15:45:00',\n",
    "       '2016-06-11 16:47:00']"
   ]
  },
  {
   "cell_type": "code",
   "execution_count": null,
   "metadata": {
    "collapsed": true
   },
   "outputs": [],
   "source": [
    "gas_list['DG040_2'] = ['2016-06-21 14:17:00', '2016-06-21 18:55:00',\n",
    "       '2016-06-21 23:24:00', '2016-06-22 07:03:00', '2016-06-22 09:55:00',\n",
    "       '2016-06-22 13:36:00', '2016-06-22 13:47:00', '2016-06-22 17:59:00',\n",
    "       '2016-06-22 22:16:00', '2016-06-23 00:36:00', '2016-06-23 05:34:00',\n",
    "       '2016-06-23 09:41:00', '2016-06-23 14:09:00', '2016-06-23 19:05:00',\n",
    "       '2016-06-23 23:00:00', '2016-06-24 04:57:00', '2016-06-24 09:25:00',\n",
    "       '2016-06-24 11:27:00', '2016-06-24 13:33:00', '2016-06-24 19:39:00',\n",
    "       '2016-06-24 22:51:00', '2016-06-24 01:17:00', '2016-06-24 07:24:00']"
   ]
  },
  {
   "cell_type": "code",
   "execution_count": null,
   "metadata": {
    "collapsed": true
   },
   "outputs": [],
   "source": [
    "gas_list['DG046_1'] = ['2016-07-10 20:40:00',\n",
    "       '2016-07-10 21:45:00', '2016-07-10 23:12:00', '2016-07-11 00:26:00',\n",
    "       '2016-07-11 03:11:00', '2016-07-11 05:43:00', '2016-07-11 07:17:00',\n",
    "       '2016-07-11 09:04:00', '2016-07-11 16:58:00', '2016-07-11 18:18:00',\n",
    "       '2016-07-11 21:44:00', '2016-07-12 01:08:00', '2016-07-12 06:55:00',\n",
    "       '2016-07-12 10:02:00', '2016-07-12 15:09:00']"
   ]
  },
  {
   "cell_type": "code",
   "execution_count": null,
   "metadata": {
    "collapsed": true
   },
   "outputs": [],
   "source": [
    "# Only keep those pCO2 data when there is HFOV recording\n",
    "for recording in recordings:\n",
    "    start = gas_list[recording][0]\n",
    "    end = gas_list[recording][-1]\n",
    "    pCO2s[recording] = pCO2s[recording].ix[start:end]"
   ]
  },
  {
   "cell_type": "markdown",
   "metadata": {},
   "source": [
    "## Calculate DCO2s  and weight-corrected DCO2s for 10 minute periods before the blood gases, combine them with the pCO2 readings, collect them in a dictionary of dictionaries and write it to multisheet Excel files."
   ]
  },
  {
   "cell_type": "code",
   "execution_count": null,
   "metadata": {
    "collapsed": true
   },
   "outputs": [],
   "source": [
    "def DCO2_calculator(recording, column, time, interval, offset, ):\n",
    "    \n",
    "    '''\n",
    "    in:\n",
    "    -recording: recording name (string)\n",
    "    -column: column to calculate the statistics on, e.g. DCO2 or DCO2_corr\n",
    "    -time: time of blood gas (string)\n",
    "    -interval: time in minutes (int) \n",
    "    -offset: time in minutes (int) \n",
    "    \n",
    "    out:\n",
    "    tuple of 9 values:\n",
    "    - number of DCO2 measurements over the period\n",
    "    - mean\n",
    "    - st deviation\n",
    "    - median\n",
    "    - mad (mean absolute deviation) \n",
    "    - minimum \n",
    "    - 25th centile\n",
    "    - 75th centile\n",
    "    - maximum\n",
    "    \n",
    "    Calculates statistics about DCO2 values before a blood gas. The interval in 'interval' long (in minutes)\n",
    "    and it ends 'offset' minutes before the blood gas \n",
    "    \n",
    "    '''\n",
    "    \n",
    "    #time is given in nanoseconds: 1 min = 60000000000 nanoseconds\n",
    "    end = pd.to_datetime(time) - pd.to_timedelta(offset * 60000000000)\n",
    "    \n",
    "    start = end - pd.to_timedelta(interval * 60000000000)\n",
    "    \n",
    "    # 1 sec (1000000000 nsec) needs to be taken away otherwise the period will be 901 seconds \n",
    "    # as it includes the last second\n",
    "    data = slow_measurements_hfov[recording][start : end - pd.to_timedelta(1000000000)]\n",
    "    \n",
    "    stats = stats_calculator(data, column)\n",
    "    \n",
    "    return stats"
   ]
  },
  {
   "cell_type": "code",
   "execution_count": null,
   "metadata": {},
   "outputs": [],
   "source": [
    "# Create a dictionary of DCO2 calculations\n",
    "DCO2_stats_gases = {}\n",
    "DCO2_stats_gases[interval, offset] = {}\n",
    "columns = ['number_of_seconds', 'mean', 'stdev', 'median', 'mad', 'min', '25pc', '75pc', 'max', ]\n",
    "\n",
    "for recording in recordings:\n",
    "    lst = []\n",
    "    for gas in gas_list[recording]:\n",
    "        lst.append(DCO2_calculator(recording,'DCO2', gas, interval, offset))\n",
    "    stats = DataFrame(lst, columns = columns, index = gas_list[recording])\n",
    "    DCO2_stats_gases[interval, offset][recording] = stats\n",
    "    \n",
    "    # add pCO2 data\n",
    "    DCO2_stats_gases[interval, offset][recording] = \\\n",
    "        DCO2_stats_gases[interval, offset][recording].join(pCO2s[recording])\n",
    "    \n",
    "    # Dropping the rows from the DataFrame that do not have DCO2 or pCO2 values\n",
    "    # Some rows do not have DCO2 values because the baby received conventional ventilation\n",
    "    # during this period (flanked by HFOV periods)\n",
    "    # Some rows do not have pCO2 data because the blood gas was insufficient\n",
    "    DCO2_stats_gases[interval, offset][recording].dropna(axis = 0, how = 'any', subset = ['mean', 'pCO2, POC']\n",
    "                                                         , inplace = True)"
   ]
  },
  {
   "cell_type": "code",
   "execution_count": null,
   "metadata": {
    "collapsed": true
   },
   "outputs": [],
   "source": [
    "writer = pd.ExcelWriter('%s/%s_%d_%d.xlsx' % (dir_write, 'DCO2_stats_gases', interval, offset) )\n",
    "for recording in recordings:\n",
    "    DCO2_stats_gases[interval, offset][recording].to_excel(writer, recording)\n",
    "writer.save()"
   ]
  },
  {
   "cell_type": "code",
   "execution_count": null,
   "metadata": {
    "collapsed": true
   },
   "outputs": [],
   "source": [
    "# Create a dictionary of weight-squared corrected DCO2 calculations\n",
    "\n",
    "DCO2_corr_stats_gases = {}\n",
    "DCO2_corr_stats_gases[interval, offset] = {}\n",
    "columns = ['number_of_seconds', 'mean', 'stdev', 'median', 'mad', 'min', '25pc', '75pc', 'max', ]\n",
    "\n",
    "for recording in recordings:\n",
    "    lst = []\n",
    "    for gas in gas_list[recording]:\n",
    "        lst.append(DCO2_calculator(recording,'DCO2_corr', gas, interval, offset))\n",
    "    stats = DataFrame(lst, columns = columns, index = gas_list[recording])\n",
    "    DCO2_corr_stats_gases[interval, offset][recording] = stats\n",
    "    \n",
    "    # add pCO2 data\n",
    "    DCO2_corr_stats_gases[interval, offset][recording] = \\\n",
    "        DCO2_corr_stats_gases[interval, offset][recording].join(pCO2s[recording])\n",
    "    \n",
    "    \n",
    "    # Dropping the rows from the DataFrame that do not have DCO2 or pCO2 values\n",
    "    # Some rows do not have DCO2 values because the baby received conventional ventilation\n",
    "    # during this period (flanked by HFOV periods)\n",
    "    # Some rows do not have pCO2 data because the blood gas was insufficient\n",
    "    DCO2_corr_stats_gases[interval, offset][recording].dropna(axis = 0, how = 'any', subset = ['mean', 'pCO2, POC']\n",
    "                                                         , inplace = True)"
   ]
  },
  {
   "cell_type": "code",
   "execution_count": null,
   "metadata": {
    "collapsed": true
   },
   "outputs": [],
   "source": [
    "writer = pd.ExcelWriter('%s/%s_%d_%d.xlsx' % (dir_write, 'DCO2_corr_stats_gases', interval, offset) )\n",
    "for recording in recordings:\n",
    "    DCO2_corr_stats_gases[interval, offset][recording].to_excel(writer, recording)\n",
    "writer.save()"
   ]
  },
  {
   "cell_type": "markdown",
   "metadata": {},
   "source": [
    "### Combine all DCO2 and DCO2_corr data into single dataframes (one for each) and write them to excel files"
   ]
  },
  {
   "cell_type": "markdown",
   "metadata": {},
   "source": [
    "#### standard DCO2"
   ]
  },
  {
   "cell_type": "code",
   "execution_count": null,
   "metadata": {},
   "outputs": [],
   "source": [
    "DCO2_stats_gases_all = {}\n",
    "\n",
    "lst = []\n",
    "for recording in recordings:\n",
    "    DCO2_stats_gases[interval, offset][recording]['recording'] = recording\n",
    "    lst.append(DCO2_stats_gases[interval, offset][recording])\n",
    "DCO2_stats_gases_all[interval, offset] = pd.concat(lst)"
   ]
  },
  {
   "cell_type": "code",
   "execution_count": null,
   "metadata": {
    "collapsed": true,
    "scrolled": false
   },
   "outputs": [],
   "source": [
    "DCO2_stats_gases_all[interval, offset];"
   ]
  },
  {
   "cell_type": "markdown",
   "metadata": {},
   "source": [
    "#### weight_corrected DCO2"
   ]
  },
  {
   "cell_type": "code",
   "execution_count": null,
   "metadata": {},
   "outputs": [],
   "source": [
    "DCO2_corr_stats_gases_all = {}\n",
    "\n",
    "lst = []\n",
    "for recording in recordings:\n",
    "    DCO2_corr_stats_gases[interval, offset][recording]['recording'] = recording\n",
    "    lst.append(DCO2_corr_stats_gases[interval, offset][recording])\n",
    "DCO2_corr_stats_gases_all[interval, offset] = pd.concat(lst) "
   ]
  },
  {
   "cell_type": "code",
   "execution_count": null,
   "metadata": {
    "collapsed": true,
    "scrolled": false
   },
   "outputs": [],
   "source": [
    "DCO2_corr_stats_gases_all[interval, offset];"
   ]
  },
  {
   "cell_type": "markdown",
   "metadata": {},
   "source": [
    "### Write cumulative data to excel files and binary pickle files"
   ]
  },
  {
   "cell_type": "code",
   "execution_count": null,
   "metadata": {
    "collapsed": true
   },
   "outputs": [],
   "source": [
    "writer = pd.ExcelWriter('%s/%s_%d_%d.xlsx' % (dir_write, 'DCO2_stats_all_gases', interval, offset) )\n",
    "DCO2_stats_gases_all[interval, offset].to_excel(writer, 'DCO2')\n",
    "writer.save()"
   ]
  },
  {
   "cell_type": "code",
   "execution_count": null,
   "metadata": {
    "collapsed": true
   },
   "outputs": [],
   "source": [
    "writer = pd.ExcelWriter('%s/%s_%d_%d.xlsx' % (dir_write, 'DCO2_corr_stats_all_gases', interval, offset) )\n",
    "DCO2_corr_stats_gases_all[interval, offset].to_excel(writer, 'DCO2_corr')\n",
    "writer.save()"
   ]
  },
  {
   "cell_type": "code",
   "execution_count": null,
   "metadata": {
    "collapsed": true
   },
   "outputs": [],
   "source": [
    "DCO2_stats_gases_all[interval, offset].to_pickle('%s/%s_%d_%d.p'\n",
    "                                                 % (dir_write, 'DCO2_stats_all_gases', interval, offset))"
   ]
  },
  {
   "cell_type": "markdown",
   "metadata": {},
   "source": [
    "## Calculate weight-corrected high frequency tidal volumes (VThfs) before the blood gases, combine them with the pCO2 readings, collect them in a dictionary of dictionaries"
   ]
  },
  {
   "cell_type": "code",
   "execution_count": null,
   "metadata": {
    "collapsed": true
   },
   "outputs": [],
   "source": [
    "# Create a dictionary of DCO2 calculations\n",
    "VThf_stats_gases = {}\n",
    "VThf_stats_gases[interval, offset] = {}\n",
    "columns = ['number_of_seconds', 'mean', 'stdev', 'median', 'mad', 'min', '25pc', '75pc', 'max', ]\n",
    "\n",
    "for recording in recordings:\n",
    "    lst = []\n",
    "    for gas in gas_list[recording]:\n",
    "        lst.append(DCO2_calculator(recording,'VThf_kg', gas, interval, offset))\n",
    "    stats = DataFrame(lst, columns = columns, index = gas_list[recording])\n",
    "    VThf_stats_gases[interval, offset][recording] = stats\n",
    "    \n",
    "    # add pCO2 data\n",
    "    VThf_stats_gases[interval, offset][recording] = \\\n",
    "        VThf_stats_gases[interval, offset][recording].join(pCO2s[recording])\n",
    "    \n",
    "    # Dropping the rows from the DataFrame that do not have DCO2 or pCO2 values\n",
    "    # Some rows do not have DCO2 values because the baby received conventional ventilation\n",
    "    # during this period (flanked by HFOV periods)\n",
    "    # Some rows do not have pCO2 data because the blood gas was insufficient\n",
    "    VThf_stats_gases[interval, offset][recording].dropna(axis = 0, how = 'any', subset = ['mean', 'pCO2, POC']\n",
    "                                                         , inplace = True)"
   ]
  },
  {
   "cell_type": "markdown",
   "metadata": {},
   "source": [
    "### Combine all VThfs data into single dataframe"
   ]
  },
  {
   "cell_type": "code",
   "execution_count": null,
   "metadata": {
    "collapsed": true
   },
   "outputs": [],
   "source": [
    "VThf_stats_gases_all = {}\n",
    "lst = []\n",
    "for recording in recordings:\n",
    "    VThf_stats_gases[interval, offset][recording]['recording'] = recording\n",
    "    lst.append(VThf_stats_gases[interval, offset][recording])\n",
    "VThf_stats_gases_all[interval, offset] = pd.concat(lst)"
   ]
  },
  {
   "cell_type": "markdown",
   "metadata": {},
   "source": [
    "## Calculate weight-square-corrected VThfs before the blood gases, combine them with the pCO2 readings, collect them in a dictionary of dictionaries"
   ]
  },
  {
   "cell_type": "code",
   "execution_count": null,
   "metadata": {
    "collapsed": true
   },
   "outputs": [],
   "source": [
    "# Create a dictionary of DCO2 calculations\n",
    "VThf_sq_stats_gases = {}\n",
    "VThf_sq_stats_gases[interval, offset] = {}\n",
    "columns = ['number_of_seconds', 'mean', 'stdev', 'median', 'mad', 'min', '25pc', '75pc', 'max', ]\n",
    "\n",
    "for recording in recordings:\n",
    "    lst = []\n",
    "    for gas in gas_list[recording]:\n",
    "        lst.append(DCO2_calculator(recording,'VThf_kg_2', gas, interval, offset))\n",
    "    stats = DataFrame(lst, columns = columns, index = gas_list[recording])\n",
    "    VThf_sq_stats_gases[interval, offset][recording] = stats\n",
    "    \n",
    "    # add pCO2 data\n",
    "    VThf_sq_stats_gases[interval, offset][recording] = \\\n",
    "        VThf_sq_stats_gases[interval, offset][recording].join(pCO2s[recording])\n",
    "    \n",
    "    # Dropping the rows from the DataFrame that do not have DCO2 or pCO2 values\n",
    "    # Some rows do not have DCO2 values because the baby received conventional ventilation\n",
    "    # during this period (flanked by HFOV periods)\n",
    "    # Some rows do not have pCO2 data because the blood gas was insufficient\n",
    "    VThf_sq_stats_gases[interval, offset][recording].dropna(axis = 0, how = 'any', subset = ['mean', 'pCO2, POC']\n",
    "                                                         , inplace = True)"
   ]
  },
  {
   "cell_type": "markdown",
   "metadata": {},
   "source": [
    "### Combine all VThf-squared data into single dataframe"
   ]
  },
  {
   "cell_type": "code",
   "execution_count": null,
   "metadata": {
    "collapsed": true
   },
   "outputs": [],
   "source": [
    "VThf_sq_stats_gases_all = {}\n",
    "lst = []\n",
    "for recording in recordings:\n",
    "    VThf_sq_stats_gases[interval, offset][recording]['recording'] = recording\n",
    "    lst.append(VThf_sq_stats_gases[interval, offset][recording])\n",
    "VThf_sq_stats_gases_all[interval, offset] = pd.concat(lst)"
   ]
  },
  {
   "cell_type": "markdown",
   "metadata": {},
   "source": [
    "## Create DataFrames with leak data together with the mean DCO2, DCO2_corr and with PCO2 data"
   ]
  },
  {
   "cell_type": "code",
   "execution_count": null,
   "metadata": {
    "collapsed": true
   },
   "outputs": [],
   "source": [
    "def parameter_calculator(recording, parameter, time, interval, offset, ):\n",
    "    \n",
    "    '''\n",
    "    in:\n",
    "    -recording: recording name (string)\n",
    "    -parameter: parameter to calculate the mean on, e.g. DCO2 or DCO2_corr\n",
    "    -time: time of blood gas (string)\n",
    "    -interval: time in minutes (int) \n",
    "    -offset: time in minutes (int) \n",
    "    \n",
    "    out:\n",
    "    -\n",
    "    \n",
    "    Calculates the mean value of the parameter before a blood gas. \n",
    "    The interval in 'interval' long (in minutes) and it ends 'offset' minutes before the blood gas\n",
    "    \n",
    "    '''\n",
    "    \n",
    "    # time is given in nanoseconds: 1 min = 60000000000 nanoseconds\n",
    "    end = pd.to_datetime(time) - pd.to_timedelta(offset * 60000000000)\n",
    "    \n",
    "    start = end - pd.to_timedelta(interval * 60000000000)\n",
    "    \n",
    "    # 1 sec (1000000000 nsec) needs to be taken away otherwise the period will be 901 seconds \n",
    "    # as it includes the last second\n",
    "    data = slow_measurements_hfov[recording][start : end - pd.to_timedelta(1000000000)]\n",
    "    \n",
    "    return data[parameter].mean()"
   ]
  },
  {
   "cell_type": "code",
   "execution_count": null,
   "metadata": {
    "collapsed": true,
    "scrolled": false
   },
   "outputs": [],
   "source": [
    "# Create a dictionary of Vthf, DCO2 calculations together with the leak data\n",
    "DCO2_stats_gases_leak = {}\n",
    "DCO2_stats_gases_leak[interval, offset] = {}\n",
    "\n",
    "for recording in recordings:\n",
    "    columns = ['DCO2', 'DCO2_corr', '5001|% leak [%]', '5001|MVleak [L/min]', '5001|MVi [L/min]', \n",
    "               '5001|MVe [L/min]']\n",
    "    par_dict = {}\n",
    "    for gas in gas_list[recording]:\n",
    "        lst = []\n",
    "        lst.append(parameter_calculator(recording,'DCO2', gas, interval, offset))\n",
    "        lst.append(parameter_calculator(recording,'DCO2_corr', gas, interval, offset))\n",
    "        lst.append(parameter_calculator(recording,'5001|% leak [%]', gas, interval, offset))\n",
    "        lst.append(parameter_calculator(recording,'5001|MVleak [L/min]', gas, interval, offset))\n",
    "        lst.append(parameter_calculator(recording,'5001|MVi [L/min]', gas, interval, offset))\n",
    "        lst.append(parameter_calculator(recording,'5001|MVe [L/min]', gas, interval, offset))\n",
    "        par_dict[gas] = lst\n",
    "        \n",
    "    DCO2_stats_gases_leak[interval, offset][recording] = \\\n",
    "        DataFrame(par_dict).T\n",
    "    DCO2_stats_gases_leak[interval, offset][recording].columns = columns\n",
    "    \n",
    "    # add pCO2 data\n",
    "    DCO2_stats_gases_leak[interval, offset][recording] = \\\n",
    "        DCO2_stats_gases_leak[interval, offset][recording].join(pCO2s[recording])\n",
    "    \n",
    "    # Dropping the rows from the DataFrame that do not have  pCO2 values\n",
    "    # Some rows do not have pCO2 data because the blood gas was insufficient\n",
    "    DCO2_stats_gases_leak[interval, offset][recording].dropna(axis = 0, how = 'any', subset =  ['pCO2, POC']\n",
    "                                                         , inplace = True)"
   ]
  },
  {
   "cell_type": "markdown",
   "metadata": {},
   "source": [
    "### Combine all leak data into single dataframes (one for each) and write them to excel files"
   ]
  },
  {
   "cell_type": "code",
   "execution_count": null,
   "metadata": {
    "collapsed": true
   },
   "outputs": [],
   "source": [
    "DCO2_stats_gases_leak_all = {}\n",
    "\n",
    "lst = []\n",
    "for recording in recordings:\n",
    "    DCO2_stats_gases_leak[interval, offset][recording]['recording'] = recording\n",
    "    lst.append(DCO2_stats_gases_leak[interval, offset][recording])\n",
    "    \n",
    "DCO2_stats_gases_leak_all[interval, offset] = pd.concat(lst)\n",
    "DCO2_stats_gases_leak_all[interval, offset].columns = \\\n",
    "    ['DCO2', 'DCO2_corr', 'leak%', 'MV_leak', 'MVi', 'MVe', 'pCO2', 'specimen', 'recording']"
   ]
  },
  {
   "cell_type": "code",
   "execution_count": null,
   "metadata": {},
   "outputs": [],
   "source": [
    "# Mean leak more that 5% before the blood gas\n",
    "len(DCO2_stats_gases_leak_all[10,2][DCO2_stats_gases_leak_all[10,2]['leak%'] > 5]);"
   ]
  },
  {
   "cell_type": "code",
   "execution_count": null,
   "metadata": {},
   "outputs": [],
   "source": [
    "# Mean leak more that 10% before the blood gas\n",
    "len(DCO2_stats_gases_leak_all[10,2][DCO2_stats_gases_leak_all[10,2]['leak%'] > 10]);"
   ]
  },
  {
   "cell_type": "code",
   "execution_count": null,
   "metadata": {},
   "outputs": [],
   "source": [
    "# Mean leak more that 25% before the blood gas\n",
    "len(DCO2_stats_gases_leak_all[10,2][DCO2_stats_gases_leak_all[10,2]['leak%'] > 25]);"
   ]
  },
  {
   "cell_type": "code",
   "execution_count": null,
   "metadata": {},
   "outputs": [],
   "source": [
    "# Mean leak more that 50% before the blood gas\n",
    "len(DCO2_stats_gases_leak_all[10,2][DCO2_stats_gases_leak_all[10,2]['leak%'] > 50]);"
   ]
  },
  {
   "cell_type": "markdown",
   "metadata": {},
   "source": [
    "## Define functions to visualise data"
   ]
  },
  {
   "cell_type": "markdown",
   "metadata": {},
   "source": [
    "### Define function to calculate correlation"
   ]
  },
  {
   "cell_type": "code",
   "execution_count": null,
   "metadata": {
    "collapsed": true
   },
   "outputs": [],
   "source": [
    "def correl(x, y):\n",
    "\n",
    "    '''\n",
    "    input: two numeric arrays of the same size\n",
    "\n",
    "    returns: a tuple of \n",
    "    1. Pearson's correlation coefficient: r\n",
    "    2. low and high 95% confidence intervals or r (two values)\n",
    "    3. Coefficient of determination: r^2\n",
    "    4. p-value of correlation\n",
    "\n",
    "    '''\n",
    "    \n",
    "    assert len(x) == len(y)\n",
    "    \n",
    "    r, p = pearsonr(x, y)\n",
    "    f = 0.5*np.log((1+r)/(1-r))\n",
    "    se = 1/np.sqrt(len(x)-3)\n",
    "    ucl = f + 1.96 * se\n",
    "    lcl = f - 1.96 * se\n",
    "\n",
    "    lcl = (np.exp(2*lcl) - 1) / (np.exp(2*lcl) + 1)\n",
    "    ucl = (np.exp(2*ucl) - 1) / (np.exp(2*ucl) + 1)\n",
    "\n",
    "    return r , lcl, ucl , r*r, p"
   ]
  },
  {
   "cell_type": "markdown",
   "metadata": {},
   "source": [
    "### Define functions to visualize individual recordings and to save them to files"
   ]
  },
  {
   "cell_type": "code",
   "execution_count": null,
   "metadata": {
    "collapsed": true
   },
   "outputs": [],
   "source": [
    "def visualise_DCO2_corr(rec, i, xlimoffset = 20, ylimoffset = 2, textboxoffset_x = 0.55, textboxoffset_y = 0.9):\n",
    "    \n",
    "    '''\n",
    "    input:\n",
    "    - rec = list of recordings (list)\n",
    "    - xlimoffset = how much longer is the X-axis than the highest X value (int)\n",
    "    - ylimoffset = how much longer is the y-axis than the highest y value (int)\n",
    "    - textboxoffset_x = vertical position of the textbox compared to X-lim, fraction (float)\n",
    "    - textboxoffset_y = horizontal position of the textbox compared to y-lim, fraction (float)\n",
    "\n",
    "    Draws a pCO2-DCO2_corr graph using data in recordings 'rec'. Points belonging to different recordings\n",
    "    have different markers and colors.\n",
    "    A correlation line is also drawn.\n",
    "    It also calculates Spearman's correlation coefficient with confidence intervals and p-value. \n",
    "    Puts these data on the graph.\n",
    "    '''\n",
    "    \n",
    "    total = DCO2_stats_gases_all[interval, offset]\n",
    "    sample = total.ix[total['recording'] == recording]\n",
    "    x = sample['mean']\n",
    "    y = sample['pCO2, POC']\n",
    "    if len(x) == 0:\n",
    "        return\n",
    "    \n",
    "    ax = fig.add_subplot(len(rec),1,i+1);\n",
    "    plt.scatter(x , y, color = 'black', marker = markers[0], s = 60)\n",
    "    plt.ylabel(r'pCO$ \\rm _2$ (kPa)', fontsize  = 14)\n",
    "    plt.xlabel(r'DCO$ \\rm _2$_corr (mL$\\rm^2$/sec/kg$^2$)', fontsize  = 14)\n",
    "    \n",
    "    plt.title(r'%s: Weight-corrected DCO$ \\rm _2$' % recording , fontsize = 14)\n",
    "    xlim = ax.get_xlim()[1]\n",
    "    ylim = ax.get_ylim()[1]\n",
    "    plt.xlim([0, xlim + xlimoffset])\n",
    "    plt.ylim([0, ylim + ylimoffset])\n",
    "    # Polynomial Coefficients\n",
    "    coeffs = np.polyfit(x, y, deg = 1)\n",
    "    result = coeffs.tolist()\n",
    "    \n",
    "    # Fit a trendline\n",
    "    l = np.poly1d(coeffs)\n",
    "    plt.plot(x,l(x),'r--')\n",
    "\n",
    "    # Calculate pearson's correlation coefficient with confidence intervals, coefficiet of determination and p value\n",
    "    r , lcl, ucl , r2, p = correl(x,y)\n",
    "    p = round(p, 4)\n",
    "\n",
    "    # print the equation on the graph area \n",
    "    \n",
    "    text = 'y=%.4fx+(%.4f)\\nr=%.4f (%.4f , %.4f)\\np=%.4f' % (result[0], result[1], r, lcl, ucl, p)\n",
    "\n",
    "    plt.text(xlim * textboxoffset_x, ylim * textboxoffset_y, text, color = 'black', style='normal', fontsize=15, \n",
    "         bbox={'facecolor':'white', 'edgecolor':'red', 'alpha':1, 'pad':10})\n",
    "    \n",
    "    text2 = 'y=%.4fx+(%.4f)   r=%.4f (%.4f , %.4f)   p=%.4f' % (result[0], result[1], r, lcl, ucl, p)\n",
    "    print(text2)\n",
    "    \n",
    "    fig.savefig('%s/%s_DCO2_corr.pdf' % (dir_write, recording), dpi = 300, facecolor='w', edgecolor='w',\n",
    "        orientation='portrait', papertype=None, format = 'pdf',\n",
    "        transparent=False, bbox_inches=None, pad_inches=0.1, frameon=True)"
   ]
  },
  {
   "cell_type": "code",
   "execution_count": null,
   "metadata": {
    "collapsed": true
   },
   "outputs": [],
   "source": [
    "def visualise_DCO2_corr_art(rec, i, xlimoffset = 20, ylimoffset = 2, textboxoffset_x = 0.55, textboxoffset_y = 0.9):\n",
    "    \n",
    "    '''\n",
    "    input:\n",
    "    - rec = list of recordings (list)\n",
    "    - xlimoffset = how much longer is the X-axis than the highest X value (int)\n",
    "    - ylimoffset = how much longer is the y-axis than the highest y value (int)\n",
    "    - textboxoffset_x = vertical position of the textbox compared to X-lim, fraction (float)\n",
    "    - textboxoffset_y = horizontal position of the textbox compared to y-lim, fraction (float)\n",
    "\n",
    "    Draws a pCO2-DCO2_corr graph using data in recordings 'rec'. Points belonging to different recordings\n",
    "    have different markers and colors. THIS FUNCTION ONLY CONSIDERS ARTERIAL BLOOD GASES.\n",
    "    A correlation line is also drawn.\n",
    "    It also calculates Spearman's correlation coefficient with confidence intervals and p-value. \n",
    "    Puts these data on the graph.\n",
    "    '''\n",
    "    \n",
    "    total = DCO2_stats_gases_all[interval, offset]\n",
    "    sample = total.ix[total['recording'] == recording]\n",
    "    sample_art = sample.ix[sample['Blood specimen type, POC'] == 'Arteri...']\n",
    "    x = sample_art['mean']\n",
    "    y = sample_art['pCO2, POC']\n",
    "    if len(x) == 0:\n",
    "        return\n",
    "    \n",
    "    ax = fig.add_subplot(len(rec),1,i+1);\n",
    "    plt.scatter(x , y, color = 'black', marker = markers[0], s = 60)\n",
    "    plt.ylabel(\"pCO2 (kPa)\", fontsize  = 16)\n",
    "    plt.xlabel(\"DCO2 (ml^2/kg^2.sec)\", fontsize  = 16)\n",
    "    plt.title(\"%s: Weight-corrected DCO2 -  arterial pCO2\" % recording  , fontsize = 18)\n",
    "    xlim = ax.get_xlim()[1]\n",
    "    ylim = ax.get_ylim()[1]\n",
    "    plt.xlim([0, xlim + xlimoffset])\n",
    "    plt.ylim([0, ylim + ylimoffset])\n",
    "    # Polynomial Coefficients\n",
    "    coeffs = np.polyfit(x, y, deg = 1)\n",
    "    result = coeffs.tolist()\n",
    "    \n",
    "    # Fit a trendline\n",
    "    l = np.poly1d(coeffs)\n",
    "    plt.plot(x,l(x),'r--')\n",
    "\n",
    "    # Calculate pearson's correlation coefficient with confidence intervals, coefficiet of determination and p value\n",
    "    r , lcl, ucl , r2, p = correl(x,y)\n",
    "    p = round(p, 3)\n",
    "\n",
    "    # print the equation on the graph area \n",
    "    text = 'y=%.4fx+(%.4f)\\nr=%.4f (%.4f , %.4f)\\np=%.3f' % (result[0], result[1], r, lcl, ucl, p)\n",
    "    plt.text(xlim * textboxoffset_x, ylim * textboxoffset_y, text, color = 'black', style='normal', fontsize=15, \n",
    "         bbox={'facecolor':'white', 'edgecolor':'red', 'alpha':1, 'pad':10})\n",
    "    \n",
    "    fig.savefig('%s/%s_DCO2_corr_art.pdf' % (dir_write, recording), dpi = 300, facecolor='w', edgecolor='w',\n",
    "        orientation='portrait', papertype=None, format = 'pdf',\n",
    "        transparent=False, bbox_inches=None, pad_inches=0.1, frameon=True)"
   ]
  },
  {
   "cell_type": "markdown",
   "metadata": {},
   "source": [
    "## Visualise data from individual recordings where at least ten data points are available"
   ]
  },
  {
   "cell_type": "markdown",
   "metadata": {},
   "source": [
    "### All blood gases"
   ]
  },
  {
   "cell_type": "markdown",
   "metadata": {},
   "source": [
    "These graphs are shown in **Supplementary Figure 3** of the paper."
   ]
  },
  {
   "cell_type": "code",
   "execution_count": null,
   "metadata": {},
   "outputs": [],
   "source": [
    "# Select only recordings where at least 10 blood gases are available\n",
    "select_recs = [key for key in pCO2s if len(pCO2s[key]) >= 10]\n",
    "select_recs = sorted(select_recs)\n",
    "select_recs;"
   ]
  },
  {
   "cell_type": "code",
   "execution_count": null,
   "metadata": {},
   "outputs": [],
   "source": [
    "recordings = select_recs[0:1]\n",
    "\n",
    "fig = plt.figure()\n",
    "fig.set_size_inches(8,6)\n",
    "fig.subplots_adjust(left=None, bottom=None, right=None, top=None, wspace=None, hspace=None)\n",
    "\n",
    "for i, recording in enumerate(recordings):\n",
    "    visualise_DCO2_corr(recordings, i, xlimoffset = 20, ylimoffset = 6, textboxoffset_x = 0.50, textboxoffset_y = 1.1)\n",
    "    \n",
    "plt.close()"
   ]
  },
  {
   "cell_type": "code",
   "execution_count": null,
   "metadata": {},
   "outputs": [],
   "source": [
    "recordings = select_recs[1:2]\n",
    "\n",
    "fig = plt.figure()\n",
    "fig.set_size_inches(8,6)\n",
    "fig.subplots_adjust(left=None, bottom=None, right=None, top=None, wspace=None, hspace=None)\n",
    "\n",
    "for i, recording in enumerate(recordings):\n",
    "    visualise_DCO2_corr(recordings, i, xlimoffset = 20, ylimoffset = 4, textboxoffset_x = 0.66, textboxoffset_y = 1.2)\n",
    "    \n",
    "plt.close()"
   ]
  },
  {
   "cell_type": "code",
   "execution_count": null,
   "metadata": {},
   "outputs": [],
   "source": [
    "recordings = select_recs[2:3]\n",
    "\n",
    "fig = plt.figure()\n",
    "fig.set_size_inches(8,6)\n",
    "fig.subplots_adjust(left=None, bottom=None, right=None, top=None, wspace=None, hspace=None)\n",
    "\n",
    "for i, recording in enumerate(recordings):\n",
    "    visualise_DCO2_corr(recordings, i, xlimoffset = 20, ylimoffset = 5, textboxoffset_x = 0.55, textboxoffset_y = 1.2)\n",
    "    \n",
    "plt.close()"
   ]
  },
  {
   "cell_type": "code",
   "execution_count": null,
   "metadata": {},
   "outputs": [],
   "source": [
    "recordings = select_recs[3:4]\n",
    "\n",
    "fig = plt.figure()\n",
    "fig.set_size_inches(8,6)\n",
    "fig.subplots_adjust(left=None, bottom=None, right=None, top=None, wspace=None, hspace=None)\n",
    "\n",
    "for i, recording in enumerate(recordings):\n",
    "    visualise_DCO2_corr(recordings, i, xlimoffset = 20, ylimoffset = 5, textboxoffset_x = 0.5, textboxoffset_y = 1.1)\n",
    "    \n",
    "plt.close()"
   ]
  },
  {
   "cell_type": "code",
   "execution_count": null,
   "metadata": {},
   "outputs": [],
   "source": [
    "recordings = select_recs[4:5]\n",
    "\n",
    "fig = plt.figure()\n",
    "fig.set_size_inches(8,6)\n",
    "fig.subplots_adjust(left=None, bottom=None, right=None, top=None, wspace=None, hspace=None)\n",
    "\n",
    "for i, recording in enumerate(recordings):\n",
    "    visualise_DCO2_corr(recordings, i, xlimoffset = 20, ylimoffset = 5, textboxoffset_x = 0.55, textboxoffset_y = 1.2)\n",
    "    \n",
    "plt.close()"
   ]
  },
  {
   "cell_type": "code",
   "execution_count": null,
   "metadata": {},
   "outputs": [],
   "source": [
    "recordings = select_recs[5:6]\n",
    "\n",
    "fig = plt.figure()\n",
    "fig.set_size_inches(8,6)\n",
    "fig.subplots_adjust(left=None, bottom=None, right=None, top=None, wspace=None, hspace=None)\n",
    "\n",
    "for i, recording in enumerate(recordings):\n",
    "    visualise_DCO2_corr(recordings, i, xlimoffset = 20, ylimoffset = 5, textboxoffset_x = 0.5, textboxoffset_y = 1.2)\n",
    "    \n",
    "plt.close()"
   ]
  },
  {
   "cell_type": "code",
   "execution_count": null,
   "metadata": {},
   "outputs": [],
   "source": [
    "recordings = select_recs[6:7]\n",
    "\n",
    "fig = plt.figure()\n",
    "fig.set_size_inches(8,6)\n",
    "fig.subplots_adjust(left=None, bottom=None, right=None, top=None, wspace=None, hspace=None)\n",
    "\n",
    "for i, recording in enumerate(recordings):\n",
    "    visualise_DCO2_corr(recordings, i, xlimoffset = 20, ylimoffset = 5, textboxoffset_x = 0.45, textboxoffset_y = 1)\n",
    "    \n",
    "plt.close()"
   ]
  },
  {
   "cell_type": "code",
   "execution_count": null,
   "metadata": {},
   "outputs": [],
   "source": [
    "recordings = select_recs[7:8]\n",
    "\n",
    "fig = plt.figure()\n",
    "fig.set_size_inches(8,6)\n",
    "fig.subplots_adjust(left=None, bottom=None, right=None, top=None, wspace=None, hspace=None)\n",
    "\n",
    "for i, recording in enumerate(recordings):\n",
    "    visualise_DCO2_corr(recordings, i, xlimoffset = 20, ylimoffset = 5, textboxoffset_x = 1.2, textboxoffset_y = 1.3)\n",
    "    \n",
    "plt.close()"
   ]
  },
  {
   "cell_type": "code",
   "execution_count": null,
   "metadata": {},
   "outputs": [],
   "source": [
    "recordings = select_recs[8:9]\n",
    "\n",
    "fig = plt.figure()\n",
    "fig.set_size_inches(8,6)\n",
    "fig.subplots_adjust(left=None, bottom=None, right=None, top=None, wspace=None, hspace=None)\n",
    "\n",
    "for i, recording in enumerate(recordings):\n",
    "    visualise_DCO2_corr(recordings, i, xlimoffset = 20, ylimoffset = 5, textboxoffset_x = 0.55, textboxoffset_y = 1.1)\n",
    "    \n",
    "plt.close()"
   ]
  },
  {
   "cell_type": "code",
   "execution_count": null,
   "metadata": {},
   "outputs": [],
   "source": [
    "recordings = select_recs[9:10]\n",
    "\n",
    "fig = plt.figure()\n",
    "fig.set_size_inches(8,6)\n",
    "fig.subplots_adjust(left=None, bottom=None, right=None, top=None, wspace=None, hspace=None)\n",
    "\n",
    "for i, recording in enumerate(recordings):\n",
    "    visualise_DCO2_corr(recordings, i, xlimoffset = 20, ylimoffset = 5, textboxoffset_x = 0.55, textboxoffset_y = 1.1)\n",
    "    \n",
    "plt.close()"
   ]
  },
  {
   "cell_type": "code",
   "execution_count": null,
   "metadata": {},
   "outputs": [],
   "source": [
    "recordings = select_recs[10:11]\n",
    "\n",
    "fig = plt.figure()\n",
    "fig.set_size_inches(8,6)\n",
    "fig.subplots_adjust(left=None, bottom=None, right=None, top=None, wspace=None, hspace=None)\n",
    "\n",
    "for i, recording in enumerate(recordings):\n",
    "    visualise_DCO2_corr(recordings, i, xlimoffset = 20, ylimoffset = 5, textboxoffset_x = 0.6, textboxoffset_y = 1.2)\n",
    "    \n",
    "plt.close()"
   ]
  },
  {
   "cell_type": "code",
   "execution_count": null,
   "metadata": {},
   "outputs": [],
   "source": [
    "recordings = select_recs[11:12]\n",
    "\n",
    "fig = plt.figure()\n",
    "fig.set_size_inches(8,6)\n",
    "fig.subplots_adjust(left=None, bottom=None, right=None, top=None, wspace=None, hspace=None)\n",
    "\n",
    "for i, recording in enumerate(recordings):\n",
    "    visualise_DCO2_corr(recordings, i, xlimoffset = 20, ylimoffset = 5, textboxoffset_x = 0.6, textboxoffset_y = 1.2)\n",
    "    \n",
    "plt.close()"
   ]
  },
  {
   "cell_type": "code",
   "execution_count": null,
   "metadata": {},
   "outputs": [],
   "source": [
    "recordings = select_recs[12:13]\n",
    "\n",
    "fig = plt.figure()\n",
    "fig.set_size_inches(8,6)\n",
    "fig.subplots_adjust(left=None, bottom=None, right=None, top=None, wspace=None, hspace=None)\n",
    "\n",
    "for i, recording in enumerate(recordings):\n",
    "    visualise_DCO2_corr(recordings, i, xlimoffset = 20, ylimoffset = 5, textboxoffset_x = 0.75, textboxoffset_y = 1.2)\n",
    "\n",
    "plt.close()"
   ]
  },
  {
   "cell_type": "code",
   "execution_count": null,
   "metadata": {},
   "outputs": [],
   "source": [
    "recordings = select_recs[13:]\n",
    "\n",
    "fig = plt.figure()\n",
    "fig.set_size_inches(8,6)\n",
    "fig.subplots_adjust(left=None, bottom=None, right=None, top=None, wspace=None, hspace=None)\n",
    "\n",
    "for i, recording in enumerate(recordings):\n",
    "    visualise_DCO2_corr(recordings, i, xlimoffset = 20, ylimoffset = 5, textboxoffset_x = 0.55, textboxoffset_y = 1.1)\n",
    "\n",
    "plt.close()"
   ]
  },
  {
   "cell_type": "markdown",
   "metadata": {},
   "source": [
    "### Arterial gases only"
   ]
  },
  {
   "cell_type": "code",
   "execution_count": null,
   "metadata": {},
   "outputs": [],
   "source": [
    "# Select only recordings where at least 10 ARTERIAL blood gases are available\n",
    "select_recs_art = [key for key in pCO2s if \n",
    "               len(pCO2s[key].ix[pCO2s[key]['Blood specimen type, POC'] == 'Arteri...']) >= 10]\n",
    "select_recs_art = sorted(select_recs_art)\n",
    "select_recs_art;"
   ]
  },
  {
   "cell_type": "code",
   "execution_count": null,
   "metadata": {},
   "outputs": [],
   "source": [
    "recordings = select_recs_art[0:1]\n",
    "\n",
    "fig = plt.figure()\n",
    "fig.set_size_inches(8,6)\n",
    "fig.subplots_adjust(left=None, bottom=None, right=None, top=None, wspace=None, hspace=None)\n",
    "\n",
    "for i, recording in enumerate(recordings):\n",
    "    visualise_DCO2_corr_art(recordings, i, xlimoffset = 20, ylimoffset = 5, \n",
    "                            textboxoffset_x = 0.65, textboxoffset_y = 1.3)\n",
    "\n",
    "plt.close()"
   ]
  },
  {
   "cell_type": "code",
   "execution_count": null,
   "metadata": {},
   "outputs": [],
   "source": [
    "recordings = select_recs_art[1:2]\n",
    "\n",
    "fig = plt.figure()\n",
    "fig.set_size_inches(8,6)\n",
    "fig.subplots_adjust(left=None, bottom=None, right=None, top=None, wspace=None, hspace=None)\n",
    "\n",
    "for i, recording in enumerate(recordings):\n",
    "    visualise_DCO2_corr_art(recordings, i, xlimoffset = 20, ylimoffset = 5, \n",
    "                            textboxoffset_x = 0.5, textboxoffset_y = 1.2)\n",
    "    \n",
    "plt.close()"
   ]
  },
  {
   "cell_type": "code",
   "execution_count": null,
   "metadata": {},
   "outputs": [],
   "source": [
    "recordings = select_recs_art[2:3]\n",
    "\n",
    "fig = plt.figure()\n",
    "fig.set_size_inches(8,6)\n",
    "fig.subplots_adjust(left=None, bottom=None, right=None, top=None, wspace=None, hspace=None)\n",
    "\n",
    "for i, recording in enumerate(recordings):\n",
    "    visualise_DCO2_corr_art(recordings, i, xlimoffset = 20, ylimoffset = 5, \n",
    "                            textboxoffset_x = 0.45, textboxoffset_y = 1)\n",
    "\n",
    "plt.close()"
   ]
  },
  {
   "cell_type": "code",
   "execution_count": null,
   "metadata": {},
   "outputs": [],
   "source": [
    "recordings = select_recs_art[3:4]\n",
    "\n",
    "fig = plt.figure()\n",
    "fig.set_size_inches(8,6)\n",
    "fig.subplots_adjust(left=None, bottom=None, right=None, top=None, wspace=None, hspace=None)\n",
    "\n",
    "for i, recording in enumerate(recordings):\n",
    "    visualise_DCO2_corr_art(recordings, i, xlimoffset = 20, ylimoffset = 5, \n",
    "                            textboxoffset_x = 1.3, textboxoffset_y = 1.25)\n",
    "\n",
    "plt.close()"
   ]
  },
  {
   "cell_type": "code",
   "execution_count": null,
   "metadata": {},
   "outputs": [],
   "source": [
    "recordings = select_recs_art[4:5]\n",
    "\n",
    "fig = plt.figure()\n",
    "fig.set_size_inches(8,6)\n",
    "fig.subplots_adjust(left=None, bottom=None, right=None, top=None, wspace=None, hspace=None)\n",
    "\n",
    "for i, recording in enumerate(recordings):\n",
    "    visualise_DCO2_corr_art(recordings, i, xlimoffset = 20, ylimoffset = 5, \n",
    "                            textboxoffset_x = 0.6, textboxoffset_y = 1.3)\n",
    "\n",
    "plt.close()"
   ]
  },
  {
   "cell_type": "code",
   "execution_count": null,
   "metadata": {},
   "outputs": [],
   "source": [
    "recordings = select_recs_art[5:6]\n",
    "\n",
    "fig = plt.figure()\n",
    "fig.set_size_inches(8,6)\n",
    "fig.subplots_adjust(left=None, bottom=None, right=None, top=None, wspace=None, hspace=None)\n",
    "\n",
    "for i, recording in enumerate(recordings):\n",
    "    visualise_DCO2_corr_art(recordings, i, xlimoffset = 20, ylimoffset = 5, \n",
    "                            textboxoffset_x = 0.6, textboxoffset_y = 1.2)\n",
    "    \n",
    "plt.close()"
   ]
  },
  {
   "cell_type": "markdown",
   "metadata": {},
   "source": [
    "## Create ROC curve"
   ]
  },
  {
   "cell_type": "code",
   "execution_count": null,
   "metadata": {
    "collapsed": true,
    "scrolled": false
   },
   "outputs": [],
   "source": [
    "val = range(0, 180, 5)\n",
    "true_pos = []\n",
    "false_pos = []\n",
    "true_neg = []\n",
    "false_neg = []\n",
    "\n",
    "a = DCO2_stats_gases_leak_all[10,2]\n",
    "\n",
    "for i in val:\n",
    "    pos = a[a['DCO2_corr'] >= i]\n",
    "    neg = a[a['DCO2_corr'] < i]\n",
    "    tp = len(pos[pos['pCO2'] <= 8])\n",
    "    fp = len(pos[pos['pCO2'] > 8]) \n",
    "    tn = len(neg[neg['pCO2'] > 8])\n",
    "    fn = len(neg[neg['pCO2'] <= 8])\n",
    "    true_pos.append(tp)\n",
    "    false_pos.append(fp)\n",
    "    true_neg.append(tn)\n",
    "    false_neg.append(fn)"
   ]
  },
  {
   "cell_type": "code",
   "execution_count": null,
   "metadata": {
    "collapsed": true,
    "scrolled": false
   },
   "outputs": [],
   "source": [
    "DCO2_test = DataFrame({'tp': true_pos, 'fp': false_pos, 'tn': true_neg, 'fn': false_neg}, index = val )"
   ]
  },
  {
   "cell_type": "code",
   "execution_count": null,
   "metadata": {
    "collapsed": true
   },
   "outputs": [],
   "source": [
    "DCO2_test['sensitivity'] = round(DCO2_test.tp / (DCO2_test.tp + DCO2_test.fn), 3)\n",
    "DCO2_test['specificity'] = round(DCO2_test.tn / (DCO2_test.tn + DCO2_test.fp), 3)\n",
    "DCO2_test['pos_pred_value'] = round(DCO2_test.tp / (DCO2_test.tp + DCO2_test.fp), 3)\n",
    "DCO2_test['neg_pred_value'] = round(DCO2_test.tn / (DCO2_test.tn + DCO2_test.fn), 3)\n",
    "DCO2_test['Youden'] = round(DCO2_test.sensitivity + DCO2_test.specificity - 1, 3)"
   ]
  },
  {
   "cell_type": "code",
   "execution_count": null,
   "metadata": {},
   "outputs": [],
   "source": [
    "DCO2_test[DCO2_test.Youden == DCO2_test.Youden.max()];"
   ]
  },
  {
   "cell_type": "code",
   "execution_count": null,
   "metadata": {
    "collapsed": true
   },
   "outputs": [],
   "source": [
    "DCO2_test['1-specificity'] = 1 - DCO2_test['specificity']"
   ]
  },
  {
   "cell_type": "code",
   "execution_count": null,
   "metadata": {
    "collapsed": true
   },
   "outputs": [],
   "source": [
    "DCO2_test.sort_values('1-specificity', inplace = True)"
   ]
  },
  {
   "cell_type": "code",
   "execution_count": null,
   "metadata": {},
   "outputs": [],
   "source": [
    "DCO2_test;"
   ]
  },
  {
   "cell_type": "code",
   "execution_count": null,
   "metadata": {},
   "outputs": [],
   "source": [
    "DCO2_test['1-specificity'].iloc[30];"
   ]
  },
  {
   "cell_type": "code",
   "execution_count": null,
   "metadata": {},
   "outputs": [],
   "source": [
    "DCO2_test['sensitivity'].iloc[30];"
   ]
  },
  {
   "cell_type": "code",
   "execution_count": null,
   "metadata": {
    "collapsed": true
   },
   "outputs": [],
   "source": [
    "AUC = 0 # Area under the ROC curve\n",
    "\n",
    "for i in range(len(DCO2_test['1-specificity'])-2):\n",
    "    c_high = ((DCO2_test['1-specificity'].iloc[i+1] - DCO2_test['1-specificity'].iloc[i]) *  \n",
    "        DCO2_test['sensitivity'].iloc[i+1])\n",
    "    c_low = ((DCO2_test['1-specificity'].iloc[i+1] - DCO2_test['1-specificity'].iloc[i]) *  \n",
    "        DCO2_test['sensitivity'].iloc[i])\n",
    "    c = (c_high + c_low) / 2\n",
    "    AUC += c   "
   ]
  },
  {
   "cell_type": "markdown",
   "metadata": {},
   "source": [
    "## Select blood gases with DCO2_corr values over 60 mL2/kg2/sec"
   ]
  },
  {
   "cell_type": "markdown",
   "metadata": {},
   "source": [
    "### All gases"
   ]
  },
  {
   "cell_type": "code",
   "execution_count": null,
   "metadata": {
    "collapsed": true,
    "scrolled": false
   },
   "outputs": [],
   "source": [
    "s = DCO2_corr_stats_gases_all[interval, offset]\n",
    "s = s[s['mean'] > 60] "
   ]
  },
  {
   "cell_type": "code",
   "execution_count": null,
   "metadata": {},
   "outputs": [],
   "source": [
    "len(s);"
   ]
  },
  {
   "cell_type": "code",
   "execution_count": null,
   "metadata": {},
   "outputs": [],
   "source": [
    "s[s['pCO2, POC'] > 8];"
   ]
  },
  {
   "cell_type": "code",
   "execution_count": null,
   "metadata": {},
   "outputs": [],
   "source": [
    "s['recording'].unique();"
   ]
  },
  {
   "cell_type": "code",
   "execution_count": null,
   "metadata": {},
   "outputs": [],
   "source": [
    "len(s['recording'].unique());"
   ]
  },
  {
   "cell_type": "markdown",
   "metadata": {
    "collapsed": true
   },
   "source": [
    "### Arterial blood gases"
   ]
  },
  {
   "cell_type": "code",
   "execution_count": null,
   "metadata": {
    "collapsed": true
   },
   "outputs": [],
   "source": [
    "s = DCO2_corr_stats_gases_all[interval, offset]\n",
    "s = s.ix[s['Blood specimen type, POC'] == 'Arteri...']\n",
    "s = s[s['mean'] > 60]"
   ]
  },
  {
   "cell_type": "code",
   "execution_count": null,
   "metadata": {},
   "outputs": [],
   "source": [
    "len(s);"
   ]
  },
  {
   "cell_type": "code",
   "execution_count": null,
   "metadata": {},
   "outputs": [],
   "source": [
    "s[s['pCO2, POC'] > 8];"
   ]
  },
  {
   "cell_type": "code",
   "execution_count": null,
   "metadata": {},
   "outputs": [],
   "source": [
    "s['recording'].unique();"
   ]
  },
  {
   "cell_type": "code",
   "execution_count": null,
   "metadata": {},
   "outputs": [],
   "source": [
    "len(s['recording'].unique());"
   ]
  },
  {
   "cell_type": "markdown",
   "metadata": {
    "collapsed": true
   },
   "source": [
    "# Generate figures for the manuscript"
   ]
  },
  {
   "cell_type": "code",
   "execution_count": null,
   "metadata": {
    "collapsed": true
   },
   "outputs": [],
   "source": [
    "recordings = [ 'DG005_1', 'DG005_2', 'DG005_3', 'DG006_1', 'DG009',  'DG016', 'DG017', 'DG018_1',  \n",
    "              'DG020', 'DG022', 'DG025', 'DG027', 'DG032_2', 'DG038_1', 'DG038_2', 'DG040_1', 'DG040_2', 'DG046_1']"
   ]
  },
  {
   "cell_type": "markdown",
   "metadata": {},
   "source": [
    "### Figures in the main article"
   ]
  },
  {
   "cell_type": "markdown",
   "metadata": {},
   "source": [
    "#### Figure 1"
   ]
  },
  {
   "cell_type": "code",
   "execution_count": null,
   "metadata": {},
   "outputs": [],
   "source": [
    "fig = plt.figure()\n",
    "fig.set_size_inches(7, 5)\n",
    "fig.subplots_adjust(left=None, bottom=None, right=None, top=None, wspace=None, hspace=None)\n",
    "\n",
    "for i, recording in enumerate(recordings):\n",
    "    total = DCO2_stats_gases_all[interval, offset]\n",
    "    sample = total.ix[total['recording'] == recording]\n",
    "    x = sample['mean']\n",
    "    y = sample['pCO2, POC']\n",
    "    fig.add_subplot(1,1,1);\n",
    "    plt.scatter(x , y, color = colors[i] , marker = markers[i], s = 25)\n",
    "    plt.ylabel(r'pCO$ \\rm _2$ (kPa)', fontsize  = 14)\n",
    "    plt.xlabel(r'DCO$ \\rm _2$ (mL$\\rm^2$/sec)', fontsize  = 14)\n",
    "    plt.tick_params(axis='both', which='major', labelsize=14)\n",
    "    plt.xlim([0,600])\n",
    "    plt.title(r'Uncorrected DCO$ \\rm _2$ - all gases' , fontsize = 14);\n",
    "\n",
    "\n",
    "a = DCO2_stats_gases_all[interval, offset]['mean']\n",
    "b = DCO2_stats_gases_all[interval, offset]['pCO2, POC']\n",
    "\n",
    "# Polynomial Coefficients\n",
    "coeffs = np.polyfit(a, b, deg = 1)\n",
    "result = coeffs.tolist()\n",
    "    \n",
    "# Fit a trendline\n",
    "l = np.poly1d(coeffs)\n",
    "plt.plot(a,l(a),'--', color = 'red')\n",
    "\n",
    "# Calculate pearson's correlation coefficient with confidence intervals, coefficiet of determination and p value\n",
    "r , lcl, ucl , r2, p = correl(a,b)\n",
    "\n",
    "# print the equation on the graph area \n",
    "    \n",
    "text = 'y=%.4fx+(%.4f)\\nr=%.4f (%.4f , %.4f)' % (result[0], result[1], r, lcl, ucl)\n",
    "plt.text(275, b.max()-2, text, color = 'black', style='normal', fontsize=14, \n",
    "         bbox={'facecolor':'white', 'edgecolor':'black', 'alpha':1, 'pad':10});\n",
    "\n",
    "fig.savefig('%s/Figure_1_color.tiff' % dir_write, dpi = 300, facecolor='w', edgecolor='w',\n",
    "        orientation='portrait', papertype=None, format = 'tiff',\n",
    "        transparent=False, bbox_inches=None, pad_inches=0.1, frameon=True)\n",
    "\n",
    "plt.close()"
   ]
  },
  {
   "cell_type": "markdown",
   "metadata": {},
   "source": [
    "#### Figure 2"
   ]
  },
  {
   "cell_type": "code",
   "execution_count": null,
   "metadata": {},
   "outputs": [],
   "source": [
    "x = DCO2_stats_gases_all[interval, offset]['mean']\n",
    "y = DCO2_corr_stats_gases_all[interval, offset]['mean']\n",
    "\n",
    "fig = plt.figure()\n",
    "fig.set_size_inches(7, 5)\n",
    "fig.subplots_adjust(left=None, bottom=None, right=None, top=None, wspace=None, hspace=None)\n",
    "ax1 = fig.add_subplot(1, 1, 1);\n",
    "bp = plt.boxplot([x, y] )\n",
    "\n",
    "plt.setp(bp['boxes'], color='black')\n",
    "plt.setp(bp['whiskers'], color='black')\n",
    "plt.setp(bp['medians'], color='red')\n",
    "plt.setp(bp['fliers'], color='black', marker='+')\n",
    "plt.ylabel(\"Units\", fontsize  = 14)\n",
    "plt.xlabel(\"\", fontsize  = 14)\n",
    "plt.xticks([1,2], [r'DCO$ \\rm _2$ (mL$\\rm^2$/sec)', r'DCO$ \\rm _2$ (mL$\\rm^2$/sec/kg$^2$)'], size = 14)\n",
    "plt.tick_params(axis='both', which='major', labelsize=14)\n",
    "plt.title(r'Boxplots of all DCO$ \\rm _2$ data' , fontsize = 14);\n",
    "\n",
    "# calculate p values\n",
    "t_stats, p = ttest_rel(x, y)\n",
    "ax1.text(ax1.get_xlim()[1]-1.2, 550, 'p<0.001', color = 'red', style='normal', fontsize=14, \n",
    "         bbox={'facecolor':'white', 'edgecolor':'None', 'alpha':1, 'pad':10}); \n",
    "\n",
    "fig.savefig('%s/Figure_2_color.tiff' % dir_write, dpi = 300, facecolor='w', edgecolor='w',\n",
    "        orientation='portrait', papertype=None, format = 'tiff',\n",
    "        transparent=False, bbox_inches=None, pad_inches=0.1, frameon=True)\n",
    "\n",
    "plt.close()"
   ]
  },
  {
   "cell_type": "markdown",
   "metadata": {},
   "source": [
    "#### Figure 3"
   ]
  },
  {
   "cell_type": "code",
   "execution_count": null,
   "metadata": {},
   "outputs": [],
   "source": [
    "fig = plt.figure()\n",
    "fig.set_size_inches(7, 5)\n",
    "fig.subplots_adjust(left=None, bottom=None, right=None, top=None, wspace=None, hspace=None)\n",
    "\n",
    "for i, recording in enumerate(recordings):\n",
    "    total = DCO2_corr_stats_gases_all[interval, offset]\n",
    "    sample = total.ix[total['recording'] == recording]\n",
    "    x = sample['mean']\n",
    "    y = sample['pCO2, POC']\n",
    "    fig.add_subplot(1,1,1);\n",
    "    ax = plt.scatter(x , y, color = colors[i], marker = markers[i], s = 25)\n",
    "    \n",
    "plt.axvline(x= 50 , linewidth=1, color = 'black')\n",
    "plt.axhline(y= 8,  linewidth=1, color = 'black')\n",
    "plt.ylabel(r'pCO$ \\rm _2$ (kPa)', fontsize  = 14)\n",
    "plt.xlabel(r'DCO$ \\rm _2$_corr (mL$\\rm^2$/sec/kg$^2$) - all gases', fontsize  = 14)\n",
    "plt.tick_params(axis='both', which='major', labelsize=14)\n",
    "\n",
    "plt.xlim([0,200])\n",
    "plt.title(r'Weight-corrected DCO$ \\rm _2$ - all gases' , fontsize = 14)\n",
    "\n",
    "a = DCO2_corr_stats_gases_all[interval, offset]['mean']\n",
    "b = DCO2_corr_stats_gases_all[interval, offset]['pCO2, POC']\n",
    "    \n",
    "# Polynomial Coefficients\n",
    "coeffs = np.polyfit(a, b, deg = 1)\n",
    "result = coeffs.tolist()\n",
    "    \n",
    "# Fit a trendline\n",
    "l = np.poly1d(coeffs)\n",
    "plt.plot(a,l(a), '--', color = 'red', linewidth = 2)\n",
    "\n",
    "# Calculate pearson's correlation coefficient with confidence intervals, coefficiet of determination and p value\n",
    "r , lcl, ucl , r2, p = correl(a,b)\n",
    "\n",
    "# print the equation on the graph area \n",
    "text = 'y=%.4fx+(%.4f)\\nr=%.4f (%.4f , %.4f)\\np<0.001' % (result[0], result[1], r, lcl, ucl)\n",
    "plt.text(a.max()*0.47, b.max() * 0.85, text, color = 'black', style='normal', fontsize=14, \n",
    "         bbox={'facecolor':'white', 'edgecolor':'black', 'alpha':1, 'pad':10})\n",
    "\n",
    "fig.savefig('%s/Figure_3_color.tiff' % dir_write, dpi = 300, facecolor='w', edgecolor='w',\n",
    "        orientation='portrait', papertype=None, format = 'tiff',\n",
    "        transparent=False, bbox_inches=None, pad_inches=0.1, frameon=True)\n",
    "\n",
    "plt.close()"
   ]
  },
  {
   "cell_type": "markdown",
   "metadata": {},
   "source": [
    "#### Figure 4"
   ]
  },
  {
   "cell_type": "code",
   "execution_count": null,
   "metadata": {},
   "outputs": [],
   "source": [
    "# ROC curve\n",
    "# A corrected DCO2 > 50 ml/min/kg2 predict a pCO2 < 8 kPa with a senstiivty of 0.390 and a specificity of 0.825 \n",
    "# (Youden score = 0.215)\n",
    "x = [0, 1]; y = [0, 1]\n",
    "\n",
    "fig = plt.figure()\n",
    "fig.set_size_inches(7, 5)\n",
    "fig.subplots_adjust(left=None, bottom=None, right=None, top=None, wspace=None, hspace=0.7)\n",
    "fig.add_subplot(1,1,1)\n",
    "\n",
    "text = r'DCO$ \\rm _2$corr = 50'\n",
    "text2 = 'AUC = %.3f' % AUC\n",
    "\n",
    "plt.plot(1 - DCO2_test.specificity , DCO2_test.sensitivity, c = 'black')\n",
    "ax = plt.plot(x, y, c = 'black', linestyle = '--', )\n",
    "plt.vlines(1 - 0.824561, 1 - 0.824561, 0.390, color='k', linewidth = 3)\n",
    "plt.text(0.05, 0.60, text, color = 'black', style='normal', fontsize=14, \n",
    "         bbox={'facecolor':'white', 'edgecolor':'black', 'alpha':1, 'pad':10});\n",
    "\n",
    "plt.text(0.6, 0.3, text2, color = 'black', style='normal', fontsize=14, \n",
    "         bbox={'facecolor':'white', 'edgecolor':'black', 'alpha':1, 'pad':10});\n",
    "\n",
    "plt.title('ROC curve', size = 14)\n",
    "plt.ylabel('Sensitivity', fontsize  = 14)\n",
    "plt.xlabel('1 - Specificity', fontsize  = 14)\n",
    "plt.grid()\n",
    "\n",
    "fig.savefig('%s/Figure_4.tiff' % dir_write , dpi = 300, facecolor='w', edgecolor='w',\n",
    "        orientation='portrait', papertype=None, format = 'tiff',\n",
    "        transparent=False, bbox_inches=None, pad_inches=0.1, frameon=True)\n",
    "\n",
    "plt.close()"
   ]
  },
  {
   "cell_type": "markdown",
   "metadata": {},
   "source": [
    "#### Figure 5"
   ]
  },
  {
   "cell_type": "code",
   "execution_count": null,
   "metadata": {},
   "outputs": [],
   "source": [
    "fig = plt.figure()\n",
    "fig.set_size_inches(7, 5)\n",
    "fig.subplots_adjust(left=None, bottom=None, right=None, top=None, wspace=None, hspace=0.7)\n",
    "\n",
    "subset = DCO2_stats_gases_leak_all[10,2][DCO2_stats_gases_leak_all[10,2]['leak%'] < 10]\n",
    "for i, recording in enumerate(recordings):\n",
    "    total = subset\n",
    "    sample = total.ix[total['recording'] == recording]\n",
    "    x = sample['DCO2_corr']\n",
    "    y = sample['pCO2']\n",
    "    fig.add_subplot(1,1,1);\n",
    "    plt.scatter(x , y, color = colors[i], marker = markers[i], s = 25)\n",
    "    \n",
    "plt.ylabel(r'pCO$ \\rm _2$ (kPa)', fontsize  = 14)\n",
    "plt.xlabel(r'DCO$ \\rm _2$_corr (mL$\\rm^2$/sec/kg$^2$)', fontsize  = 14)\n",
    "plt.xlim([0,200])\n",
    "plt.title(r'Weight-corrected DCO$ \\rm _2$ - leak < 10%' , fontsize = 14)\n",
    "    \n",
    "a = total['DCO2_corr']\n",
    "b = total['pCO2']\n",
    "    \n",
    "# Polynomial Coefficients\n",
    "coeffs = np.polyfit(a, b, deg = 1)\n",
    "result = coeffs.tolist()\n",
    "    \n",
    "# Fit a trendline\n",
    "l = np.poly1d(coeffs)\n",
    "plt.plot(a,l(a),'r--')\n",
    "\n",
    "# Calculate pearson's correlation coefficient with confidence intervals, coefficiet of determination and p value\n",
    "r , lcl, ucl , r2, p = correl(a,b)\n",
    "\n",
    "# print the equation on the graph area \n",
    "text = 'y=%.4fx+(%.4f)\\nr=%.4f (%.4f , %.4f)\\np<0.001' % (result[0], result[1], r, lcl, ucl)\n",
    "plt.text(a.max()*0.52, b.max()*0.84, text, color = 'black', style='normal', fontsize=14, \n",
    "         bbox={'facecolor':'white', 'edgecolor':'red', 'alpha':1, 'pad':10})\n",
    "\n",
    "fig.savefig('%s/Figure_5_color.tiff' % dir_write, dpi = 300, facecolor='w', edgecolor='w',\n",
    "        orientation='portrait', papertype=None, format = 'tiff',\n",
    "        transparent=False, bbox_inches=None, pad_inches=0.1, frameon=True)\n",
    "\n",
    "plt.close()"
   ]
  },
  {
   "cell_type": "markdown",
   "metadata": {},
   "source": [
    "### Supplementary figures"
   ]
  },
  {
   "cell_type": "markdown",
   "metadata": {},
   "source": [
    "#### Supplementary Figure 1"
   ]
  },
  {
   "cell_type": "code",
   "execution_count": null,
   "metadata": {},
   "outputs": [],
   "source": [
    "fig = plt.figure()\n",
    "fig.set_size_inches(7, 5)\n",
    "fig.subplots_adjust(left=None, bottom=None, right=None, top=None, wspace=None, hspace=None)\n",
    "fig.suptitle('E-Figure 1', size = 14)\n",
    "\n",
    "for i, recording in enumerate(recordings):\n",
    "    total = DCO2_stats_gases_all[interval, offset]\n",
    "    sample = total.ix[total['recording'] == recording]\n",
    "    sample_art = sample.ix[sample['Blood specimen type, POC'] == 'Arteri...']\n",
    "    x = sample_art['mean']\n",
    "    y = sample_art['pCO2, POC']\n",
    "    fig.add_subplot(1,1,1);\n",
    "    plt.scatter(x , y, color = colors[i], marker = markers[i], s = 25)\n",
    "    plt.ylabel(r'pCO$ \\rm _2$ (kPa)', fontsize  = 14)\n",
    "    plt.xlabel(r'DCO$ \\rm _2$ (mL$\\rm^2$/sec)', fontsize  = 14)\n",
    "    plt.tick_params(axis='both', which='major', labelsize=14)\n",
    "    plt.xlim([0,600])\n",
    "    plt.title(r'Uncorrected DCO$ \\rm _2$ - arterial gases only' , fontsize = 14);\n",
    "\n",
    "sample2 = total.ix[total['Blood specimen type, POC'] == 'Arteri...']\n",
    "a = sample2['mean']\n",
    "b = sample2['pCO2, POC']\n",
    "    \n",
    "# Polynomial Coefficients\n",
    "coeffs = np.polyfit(a, b, deg = 1)\n",
    "result = coeffs.tolist()\n",
    "    \n",
    "# Fit a trendline\n",
    "l = np.poly1d(coeffs)\n",
    "plt.plot(a,l(a),'--', color = 'red')\n",
    "\n",
    "# Calculate pearson's correlation coefficient with confidence intervals, coefficiet of determination and p value\n",
    "r , lcl, ucl , r2, p = correl(a,b)\n",
    "\n",
    "# print the equation on the graph area \n",
    "text = 'y=%.4fx+(%.4f)\\nr=%.4f (%.4f , %.4f)' % (result[0], result[1], r, lcl, ucl)\n",
    "plt.text(a.max()*0.48, b.max()-2, text, color = 'black', style='normal', fontsize=14, \n",
    "         bbox={'facecolor':'white', 'edgecolor':'black', 'alpha':1, 'pad':10});\n",
    "\n",
    "fig.savefig('%s/E_Figure_1_color.tiff' % dir_write, dpi = 300, facecolor='w', edgecolor='w',\n",
    "        orientation='portrait', papertype=None, format = 'tiff',\n",
    "        transparent=False, bbox_inches=None, pad_inches=0.1, frameon=True)\n",
    "\n",
    "plt.close()"
   ]
  },
  {
   "cell_type": "markdown",
   "metadata": {},
   "source": [
    "#### Supplementary Figure 2"
   ]
  },
  {
   "cell_type": "code",
   "execution_count": null,
   "metadata": {},
   "outputs": [],
   "source": [
    "fig = plt.figure()\n",
    "fig.set_size_inches(7, 5)\n",
    "fig.subplots_adjust(left=None, bottom=None, right=None, top=None, wspace=None, hspace=0.7)\n",
    "fig.suptitle('E-Figure 2', size = 14)\n",
    "\n",
    "for i, recording in enumerate(recordings):\n",
    "    total = DCO2_corr_stats_gases_all[interval, offset]\n",
    "    sample = total.ix[total['recording'] == recording]\n",
    "    sample_art = sample.ix[sample['Blood specimen type, POC'] == 'Arteri...']\n",
    "    x = sample_art['mean']\n",
    "    y = sample_art['pCO2, POC']\n",
    "    fig.add_subplot(1,1,1);\n",
    "    plt.scatter(x , y, color = colors[i], marker = markers[i], s = 25)\n",
    "\n",
    "plt.axvline(x= 60 , linewidth=1, color = 'black')\n",
    "plt.axhline(y= 8,  linewidth=1, color = 'black')    \n",
    "plt.ylabel(r'pCO$ \\rm _2$ (kPa)', fontsize  = 14)\n",
    "plt.xlabel(r'DCO$ \\rm _2$_corr (mL$\\rm^2$/sec/kg$^2$)', fontsize  = 14)\n",
    "plt.tick_params(axis='both', which='major', labelsize=14)\n",
    "plt.xlim([0,200])\n",
    "plt.title(r'Weight-corrected DCO$ \\rm _2$ - arterial gases only' , fontsize = 14)\n",
    "    \n",
    "\n",
    "sample2 = total.ix[total['Blood specimen type, POC'] == 'Arteri...']\n",
    "a = sample2['mean']\n",
    "b = sample2['pCO2, POC']\n",
    "    \n",
    "# Polynomial Coefficients\n",
    "coeffs = np.polyfit(a, b, deg = 1)\n",
    "result = coeffs.tolist()\n",
    "    \n",
    "# Fit a trendline\n",
    "l = np.poly1d(coeffs)\n",
    "plt.plot(a,l(a), '--', color = 'red',  linewidth = 2)\n",
    "\n",
    "# Calculate pearson's correlation coefficient with confidence intervals, coefficient of determination and p value\n",
    "r , lcl, ucl , r2, p = correl(a,b)\n",
    "\n",
    "\n",
    "# print the equation on the graph area \n",
    "    \n",
    "text = 'y=%.4fx+(%.4f)\\nr=%.4f (%.4f , %.4f)\\np=%.3f' % (result[0], result[1], r, lcl, ucl, p)\n",
    "\n",
    "\n",
    "plt.text(a.max()*0.48, b.max()*0.83, text, color = 'black', style='normal', fontsize=14, \n",
    "         bbox={'facecolor':'white', 'edgecolor':'red', 'alpha':1, 'pad':10});\n",
    "\n",
    "\n",
    "fig.savefig('%s/E_figure_2_color.tiff' % dir_write, dpi = 300, facecolor='w', edgecolor='w',\n",
    "        orientation='portrait', papertype=None, format = 'tiff',\n",
    "        transparent=False, bbox_inches=None, pad_inches=0.1, frameon=True)\n",
    "\n",
    "plt.close()"
   ]
  },
  {
   "cell_type": "markdown",
   "metadata": {},
   "source": [
    "For **Supplementary Figure 3** of the paper please see the functions creating the individual graphs above."
   ]
  },
  {
   "cell_type": "markdown",
   "metadata": {},
   "source": [
    "#### Supplementary Figure 4"
   ]
  },
  {
   "cell_type": "code",
   "execution_count": null,
   "metadata": {},
   "outputs": [],
   "source": [
    "fig = plt.figure()\n",
    "fig.set_size_inches(7, 5)\n",
    "fig.subplots_adjust(left=None, bottom=None, right=None, top=None, wspace=None, hspace=0.7)\n",
    "fig.suptitle('E-Figure 4', size = 14)\n",
    "\n",
    "subset = DCO2_stats_gases_leak_all[10,2][DCO2_stats_gases_leak_all[10,2]['leak%'] < 10]\n",
    "for i, recording in enumerate(recordings):\n",
    "    total = subset\n",
    "    sample = total.ix[total['recording'] == recording]\n",
    "    sample_art = sample.ix[subset['specimen'] == 'Arteri...']\n",
    "    x = sample_art['DCO2_corr']\n",
    "    y = sample_art['pCO2']\n",
    "    fig.add_subplot(1,1,1);\n",
    "    plt.scatter(x , y, color = colors[i], marker = markers[i], s = 25)\n",
    "    \n",
    "plt.ylabel(r'pCO$ \\rm _2$ (kPa)', fontsize  = 14)\n",
    "plt.xlabel(r'DCO$ \\rm _2$_corr (mL$\\rm^2$/sec/kg$^2$)', fontsize  = 14)\n",
    "plt.xlim([0,200])\n",
    "plt.title(r'Weight-corrected DCO$ \\rm _2$ - leak<10%' , fontsize = 14)\n",
    "    \n",
    "sample2 = total.ix[total['specimen'] == 'Arteri...']\n",
    "a = sample2['DCO2_corr']\n",
    "b = sample2['pCO2']\n",
    "    \n",
    "# Polynomial Coefficients\n",
    "coeffs = np.polyfit(a, b, deg = 1)\n",
    "result = coeffs.tolist()\n",
    "    \n",
    "# Fit a trendline\n",
    "l = np.poly1d(coeffs)\n",
    "plt.plot(a,l(a),'--', color = 'red')\n",
    "\n",
    "# Calculate pearson's correlation coefficient with confidence intervals, coefficiet of determination and p value\n",
    "r , lcl, ucl , r2, p = correl(a,b)\n",
    "\n",
    "# print the equation on the graph area \n",
    "text = 'y=%.4fx+(%.4f)\\nr=%.4f (%.4f , %.4f)\\np=%.3f' % (result[0], result[1], r, lcl, ucl, p)\n",
    "plt.text(a.max()*0.52, b.max()*0.84, text, color = 'black', style='normal', fontsize=14, \n",
    "         bbox={'facecolor':'white', 'edgecolor':'red', 'alpha':1, 'pad':10})\n",
    "\n",
    "fig.savefig('%s/E_figure_4_color.tiff' % dir_write, dpi = 300, facecolor='w', edgecolor='w',\n",
    "        orientation='portrait', papertype=None, format = 'tiff',\n",
    "        transparent=False, bbox_inches=None, pad_inches=0.1, frameon=True)\n",
    "\n",
    "plt.close()"
   ]
  },
  {
   "cell_type": "markdown",
   "metadata": {},
   "source": [
    "#### Supplementary Figure 5"
   ]
  },
  {
   "cell_type": "code",
   "execution_count": null,
   "metadata": {},
   "outputs": [],
   "source": [
    "fig = plt.figure()\n",
    "fig.set_size_inches(7, 5)\n",
    "fig.subplots_adjust(left=None, bottom=None, right=None, top=None, wspace=None, hspace=0.7)\n",
    "fig.suptitle('E-Figure 5', size = 14)\n",
    "\n",
    "subset = DCO2_stats_gases_leak_all[10,2][DCO2_stats_gases_leak_all[10,2]['leak%'] >= 10]\n",
    "for i, recording in enumerate(recordings):\n",
    "    total = subset\n",
    "    sample = total.ix[total['recording'] == recording]\n",
    "    sample_art = sample.ix[subset['specimen'] == 'Arteri...']\n",
    "    x = sample_art['DCO2_corr']\n",
    "    y = sample_art['pCO2']\n",
    "    fig.add_subplot(1,1,1);\n",
    "    plt.scatter(x , y, color = colors[i], marker = markers[i], s = 25)\n",
    "    \n",
    "plt.ylabel(r'pCO$ \\rm _2$ (kPa)', fontsize  = 14)\n",
    "plt.xlabel(r'DCO$ \\rm _2$_corr (mL$\\rm^2$/sec/kg$^2$)', fontsize  = 14)\n",
    "plt.xlim([0,200])\n",
    "plt.title(r'Weight-corrected DCO$ \\rm _2$ - leak>10%' , fontsize = 14)\n",
    "    \n",
    "sample2 = total.ix[total['specimen'] == 'Arteri...']\n",
    "a = sample2['DCO2_corr']\n",
    "b = sample2['pCO2']\n",
    "    \n",
    "# Polynomial Coefficients\n",
    "coeffs = np.polyfit(a, b, deg = 1)\n",
    "result = coeffs.tolist()\n",
    "    \n",
    "# Fit a trendline\n",
    "l = np.poly1d(coeffs)\n",
    "plt.plot(a,l(a),'--', color = 'red')\n",
    "\n",
    "# Calculate pearson's correlation coefficient with confidence intervals, coefficiet of determination and p value\n",
    "r , lcl, ucl , r2, p = correl(a,b)\n",
    "\n",
    "# print the equation on the graph area \n",
    "text = 'y=%.4fx+(%.4f)\\nr=%.4f (%.4f , %.4f)\\np=%.3f' % (result[0], result[1], r, lcl, ucl, p)\n",
    "plt.text(a.max()*0.52, b.max()*0.84, text, color = 'black', style='normal', fontsize=14, \n",
    "         bbox={'facecolor':'white', 'edgecolor':'red', 'alpha':1, 'pad':10})\n",
    "\n",
    "fig.savefig('%s/E_figure_5_color.tiff' % dir_write, dpi = 300, facecolor='w', edgecolor='w',\n",
    "        orientation='portrait', papertype=None, format = 'tiff',\n",
    "        transparent=False, bbox_inches=None, pad_inches=0.1, frameon=True)\n",
    "\n",
    "plt.close()"
   ]
  },
  {
   "cell_type": "markdown",
   "metadata": {},
   "source": [
    "#### Supplementary Figure 6"
   ]
  },
  {
   "cell_type": "code",
   "execution_count": null,
   "metadata": {},
   "outputs": [],
   "source": [
    "fig = plt.figure()\n",
    "fig.set_size_inches(7, 5)\n",
    "fig.subplots_adjust(left=None, bottom=None, right=None, top=None, wspace=None, hspace=0.7)\n",
    "fig.suptitle('E-Figure 6', size = 14)\n",
    "\n",
    "for i, recording in enumerate(recordings):\n",
    "    total = VThf_stats_gases_all[interval, offset]\n",
    "    sample = total.ix[total['recording'] == recording]\n",
    "    x = sample['mean']\n",
    "    y = sample['pCO2, POC']\n",
    "    fig.add_subplot(1,1,1);\n",
    "    plt.scatter(x , y, color = colors[i], marker = markers[i], s = 25)\n",
    "    \n",
    "plt.ylabel(r'pCO$ \\rm _2$ (kPa)', fontsize  = 14)\n",
    "plt.xlabel(r'VThf (mL/kg)', fontsize  = 14)\n",
    "plt.xlim([0,5])\n",
    "# plt.title(r'Tidal volume' , fontsize = 14)\n",
    "    \n",
    "a = VThf_stats_gases_all[interval, offset]['mean']\n",
    "b = VThf_stats_gases_all[interval, offset]['pCO2, POC']\n",
    "    \n",
    "# Polynomial Coefficients\n",
    "coeffs = np.polyfit(a, b, deg = 1)\n",
    "result = coeffs.tolist()\n",
    "    \n",
    "# Fit a trendline\n",
    "l = np.poly1d(coeffs)\n",
    "plt.plot(a,l(a),'--', color = 'red')\n",
    "\n",
    "# Calculate pearson's correlation coefficient with confidence intervals, coefficiet of determination and p value\n",
    "r , lcl, ucl , r2, p = correl(a,b)\n",
    "\n",
    "# print the equation on the graph area \n",
    "text = 'y=%.4fx+(%.4f)\\nr=%.4f (%.4f , %.4f)\\np<0.001' % (result[0], result[1], r, lcl, ucl)\n",
    "plt.text(a.max()*0.52, b.max()*0.84, text, color = 'black', style='normal', fontsize=14, \n",
    "         bbox={'facecolor':'white', 'edgecolor':'red', 'alpha':1, 'pad':10})\n",
    "\n",
    "fig.savefig('%s/E_figure_6_color.tiff' % dir_write, dpi = 300, facecolor='w', edgecolor='w',\n",
    "        orientation='portrait', papertype=None, format = 'tiff',\n",
    "        transparent=False, bbox_inches=None, pad_inches=0.1, frameon=True)\n",
    "\n",
    "plt.close()"
   ]
  },
  {
   "cell_type": "markdown",
   "metadata": {},
   "source": [
    "#### Supplementary Figure 7"
   ]
  },
  {
   "cell_type": "code",
   "execution_count": null,
   "metadata": {},
   "outputs": [],
   "source": [
    "fig = plt.figure()\n",
    "fig.set_size_inches(7, 5)\n",
    "fig.subplots_adjust(left=None, bottom=None, right=None, top=None, wspace=None, hspace=0.7)\n",
    "fig.suptitle('E-Figure 7', size = 14)\n",
    "\n",
    "for i, recording in enumerate(recordings):\n",
    "    total = VThf_sq_stats_gases_all[interval, offset]\n",
    "    sample = total.ix[total['recording'] == recording]\n",
    "    x = sample['mean']\n",
    "    y = sample['pCO2, POC']\n",
    "    fig.add_subplot(1,1,1);\n",
    "    plt.scatter(x , y, color = colors[i], marker = markers[i], s = 25)\n",
    "    \n",
    "plt.ylabel(r'pCO$ \\rm _2$ (kPa)', fontsize  = 14)\n",
    "plt.xlabel(r'VThf (mL$^2$/kg$^2$)', fontsize  = 14)\n",
    "plt.xlabel(r'VThf$^2$ (mL$^2$/kg$^2$)', fontsize  = 14)\n",
    "    \n",
    "a = VThf_sq_stats_gases_all[interval, offset]['mean']\n",
    "b = VThf_sq_stats_gases_all[interval, offset]['pCO2, POC']\n",
    "    \n",
    "# Polynomial Coefficients\n",
    "coeffs = np.polyfit(a, b, deg = 1)\n",
    "result = coeffs.tolist()\n",
    "    \n",
    "# Fit a trendline\n",
    "l = np.poly1d(coeffs)\n",
    "plt.plot(a,l(a),'--', color = 'red')\n",
    "\n",
    "# Calculate pearson's correlation coefficient with confidence intervals, coefficiet of determination and p value\n",
    "r , lcl, ucl , r2, p = correl(a,b)\n",
    "\n",
    "# print the equation on the graph area \n",
    "text = 'y=%.4fx+(%.4f)\\nr=%.4f (%.4f , %.4f)\\np<0.001' % (result[0], result[1], r, lcl, ucl)\n",
    "plt.text(a.max()*0.43, b.max()*0.83, text, color = 'black', style='normal', fontsize=14, \n",
    "         bbox={'facecolor':'white', 'edgecolor':'red', 'alpha':1, 'pad':10})\n",
    "\n",
    "fig.savefig('%s/E_Figure_7_color.tiff' % dir_write, dpi = 300, facecolor='w', edgecolor='w',\n",
    "        orientation='portrait', papertype=None, format = 'tiff',\n",
    "        transparent=False, bbox_inches=None, pad_inches=0.1, frameon=True)\n",
    "\n",
    "plt.close()"
   ]
  }
 ],
 "metadata": {
  "anaconda-cloud": {},
  "kernelspec": {
   "display_name": "Python 3",
   "language": "python",
   "name": "python3"
  },
  "language_info": {
   "codemirror_mode": {
    "name": "ipython",
    "version": 3
   },
   "file_extension": ".py",
   "mimetype": "text/x-python",
   "name": "python",
   "nbconvert_exporter": "python",
   "pygments_lexer": "ipython3",
   "version": "3.7.1"
  }
 },
 "nbformat": 4,
 "nbformat_minor": 1
}
